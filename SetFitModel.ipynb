{
 "cells": [
  {
   "cell_type": "code",
   "id": "initial_id",
   "metadata": {
    "collapsed": true
   },
   "source": "!pip install setfit datasets",
   "outputs": [],
   "execution_count": null
  },
  {
   "metadata": {},
   "cell_type": "code",
   "source": [
    "import pandas as pd\n",
    "from datasets import Dataset\n",
    "from setfit import SetFitModel, SetFitTrainer"
   ],
   "id": "fca1e3bbe545e587",
   "outputs": [],
   "execution_count": null
  },
  {
   "metadata": {},
   "cell_type": "code",
   "source": [
    "trn = \"C:/Users/satra/Downloads/jigsaw-agile-community-rules/train.csv\"\n",
    "tst = \"C:/Users/satra/Downloads/jigsaw-agile-community-rules/test.csv\"\n",
    "df_trn = pd.read_csv(trn)\n",
    "# df_trn = df_trn.sample(frac=.01, random_state=42).reset_index(drop=True)\n",
    "df_tst = pd.read_csv(tst)\n",
    "\n",
    "trn_rows = []\n",
    "for idx, row in df_trn.iterrows():\n",
    "  for col in ['positive_example_1', 'positive_example_2']:\n",
    "    trn_rows.append({'text': 'Subrreddit: '+ row['subreddit'] + ' [SEP] ' + 'Rule: ' + row['rule'] + ' [SEP] ' + 'Comment: ' + row[col], 'label': 1})\n",
    "  for col in ['negative_example_1', 'negative_example_2']:\n",
    "    trn_rows.append({'text': 'Subrreddit: '+ row['subreddit'] + ' [SEP] ' + 'Rule: ' + row['rule'] + ' [SEP] ' + 'Comment: ' + row[col], 'label': 0})\n",
    "\n",
    "val_rows = []\n",
    "for idx, row in df_trn.iterrows():\n",
    "  val_rows.append({'text': 'Subrreddit: '+ row['subreddit'] + ' [SEP] ' + 'Rule: ' + row['rule'] + ' [SEP] ' + 'Comment: ' + row['body'], 'label': row['rule_violation']})\n",
    "\n",
    "trn_df = pd.DataFrame(trn_rows)\n",
    "trn_set = Dataset.from_pandas(trn_df)\n",
    "\n",
    "val_df = pd.DataFrame(val_rows)\n",
    "val_set = Dataset.from_pandas(val_df)"
   ],
   "id": "38265c9348aeb752",
   "outputs": [],
   "execution_count": null
  },
  {
   "metadata": {},
   "cell_type": "code",
   "source": [
    "modl = SetFitModel.from_pretrained('sentence-transformers/stsb-xlm-r-multilingual')\n",
    "trnr = SetFitTrainer(model=modl,train_dataset=trn_set,eval_dataset=val_set,metric='accuracy',batch_size=8,num_epochs=1,num_iterations=8,learning_rate=1.e-5)"
   ],
   "id": "a1b0ecf89f72531b",
   "outputs": [],
   "execution_count": null
  },
  {
   "metadata": {},
   "cell_type": "code",
   "source": [
    "sample_df = val_df.loc[val_df[\"label\"] == 1, ['text']].sample(frac=.1, random_state=42)\n",
    "sample_df.head(16)"
   ],
   "id": "4b9f4611a3f8f2f6",
   "outputs": [],
   "execution_count": null
  },
  {
   "metadata": {},
   "cell_type": "code",
   "source": "trnr.train()",
   "id": "b50c3fa5efeb1be4",
   "outputs": [],
   "execution_count": null
  }
 ],
 "metadata": {
  "kernelspec": {
   "display_name": "Python 3",
   "language": "python",
   "name": "python3"
  },
  "language_info": {
   "codemirror_mode": {
    "name": "ipython",
    "version": 2
   },
   "file_extension": ".py",
   "mimetype": "text/x-python",
   "name": "python",
   "nbconvert_exporter": "python",
   "pygments_lexer": "ipython2",
   "version": "2.7.6"
  }
 },
 "nbformat": 4,
 "nbformat_minor": 5
}
