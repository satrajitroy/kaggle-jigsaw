{
 "cells": [
  {
   "cell_type": "code",
   "id": "5c2c86b6",
   "metadata": {
    "_cell_guid": "b1076dfc-b9ad-4769-8c92-a6c4dae69d19",
    "_uuid": "8f2839f25d086af736a60e9eeb907d3b93b6e0e5",
    "execution": {
     "iopub.execute_input": "2025-08-03T14:12:00.340282Z",
     "iopub.status.busy": "2025-08-03T14:12:00.339614Z",
     "iopub.status.idle": "2025-08-03T14:12:02.002071Z",
     "shell.execute_reply": "2025-08-03T14:12:02.000970Z"
    },
    "papermill": {
     "duration": 1.66713,
     "end_time": "2025-08-03T14:12:02.003545",
     "exception": false,
     "start_time": "2025-08-03T14:12:00.336415",
     "status": "completed"
    },
    "tags": [],
    "ExecuteTime": {
     "end_time": "2025-08-07T23:36:53.200096Z",
     "start_time": "2025-08-07T23:36:53.183939Z"
    }
   },
   "source": [
    "# This Python 3 environment comes with many helpful analytics libraries installed\n",
    "# It is defined by the kaggle/python Docker image: https://github.com/kaggle/docker-python\n",
    "# For example, here's several helpful packages to load\n",
    "\n",
    "import numpy as np # linear algebra\n",
    "import pandas as pd # data processing, CSV file I/O (e.g. pd.read_csv)\n",
    "\n",
    "# Input data files are available in the read-only \"../input/\" directory\n",
    "# For example, running this (by clicking run or pressing Shift+Enter) will list all files under the input directory\n",
    "\n",
    "import os\n",
    "# for dirname, _, filenames in os.walk('/kaggle/input'):\n",
    "for dirname, _, filenames in os.walk('.'):\n",
    "    for filename in filenames:\n",
    "        print(os.path.join(dirname, filename))\n",
    "\n",
    "# You can write up to 20GB to the current directory (/kaggle/working/) that gets preserved as output when you create a version using \"Save & Run All\" \n",
    "# You can also write temporary files to /kaggle/temp/, but they won't be saved outside of the current session"
   ],
   "outputs": [
    {
     "name": "stdout",
     "output_type": "stream",
     "text": [
      ".\\Jigsaw.ipynb\n",
      ".\\Jigsaw.py\n",
      ".\\Jigsaw_v14.py\n",
      ".\\jigsaw_v15.ipynb\n",
      ".\\jigsaw_v15_contrastive.ipynb\n",
      ".\\jigsaw_v15_contrastive.py\n",
      ".\\jigsaw_v17.ipynb\n",
      ".\\jigsaw_v17_contrastive.ipynb\n",
      ".\\output.log\n",
      ".\\README.md\n",
      ".\\sample_submission.csv\n",
      ".\\StackTrace\n",
      ".\\submission.csv\n",
      ".\\test.csv\n",
      ".\\train.csv\n",
      ".\\.git\\COMMIT_EDITMSG\n",
      ".\\.git\\config\n",
      ".\\.git\\description\n",
      ".\\.git\\FETCH_HEAD\n",
      ".\\.git\\HEAD\n",
      ".\\.git\\index\n",
      ".\\.git\\ORIG_HEAD\n",
      ".\\.git\\packed-refs\n",
      ".\\.git\\hooks\\applypatch-msg.sample\n",
      ".\\.git\\hooks\\commit-msg.sample\n",
      ".\\.git\\hooks\\fsmonitor-watchman.sample\n",
      ".\\.git\\hooks\\post-update.sample\n",
      ".\\.git\\hooks\\pre-applypatch.sample\n",
      ".\\.git\\hooks\\pre-commit.sample\n",
      ".\\.git\\hooks\\pre-merge-commit.sample\n",
      ".\\.git\\hooks\\pre-push.sample\n",
      ".\\.git\\hooks\\pre-rebase.sample\n",
      ".\\.git\\hooks\\pre-receive.sample\n",
      ".\\.git\\hooks\\prepare-commit-msg.sample\n",
      ".\\.git\\hooks\\push-to-checkout.sample\n",
      ".\\.git\\hooks\\sendemail-validate.sample\n",
      ".\\.git\\hooks\\update.sample\n",
      ".\\.git\\info\\exclude\n",
      ".\\.git\\logs\\HEAD\n",
      ".\\.git\\logs\\refs\\heads\\main\n",
      ".\\.git\\logs\\refs\\remotes\\origin\\HEAD\n",
      ".\\.git\\logs\\refs\\remotes\\origin\\main\n",
      ".\\.git\\objects\\01\\d3562f054ec88ad3f570933b85e6346d2925e6\n",
      ".\\.git\\objects\\04\\c548f90364b20a900b5a6ab39fdf2f913c831d\n",
      ".\\.git\\objects\\06\\572006ed0de266d90dd5909fe65586a4dcb3e8\n",
      ".\\.git\\objects\\06\\6cb8a786a0ff08f989d27d029142f6ef538726\n",
      ".\\.git\\objects\\0b\\106c69ed4e685dfa3bf61075273efa61c9e492\n",
      ".\\.git\\objects\\0d\\80b9e47dddde1c902e3926c177864697811de2\n",
      ".\\.git\\objects\\13\\81744334112bee79c0aaec5104c165c863c99e\n",
      ".\\.git\\objects\\14\\92b73c5b3b48f77cc96731104e197361e44028\n",
      ".\\.git\\objects\\15\\c077795b435663f9d0379e0613ec669f425cf7\n",
      ".\\.git\\objects\\17\\93a42288d7010af98aec0fa2ddef03fe1c3686\n",
      ".\\.git\\objects\\21\\b7494f37ca92f8ac02f32b2c0eeae0ac1e5288\n",
      ".\\.git\\objects\\23\\0d03df73118b191cdd29f3cd51d141c546cc53\n",
      ".\\.git\\objects\\23\\be0b99347607f8a9d1b073ee2a8b86c00c6262\n",
      ".\\.git\\objects\\29\\216318041a468acafbba2ae1e1912e510a4f07\n",
      ".\\.git\\objects\\2c\\b0fa1244b31607ac7db2d8ffe52dccd2e35ee8\n",
      ".\\.git\\objects\\2d\\ad6c44abd971bfc89d7c17efac22ba464dbd94\n",
      ".\\.git\\objects\\2f\\a5dab28205ab237a070749882b248709ca0544\n",
      ".\\.git\\objects\\30\\104ae4dcf36ec88789f3317d5a4ad6366db585\n",
      ".\\.git\\objects\\36\\bc2b649aeb693222dc7c961c79e3f2fbb3ec1e\n",
      ".\\.git\\objects\\39\\a1e8e55eed860ac073e85e736c730144ce1d13\n",
      ".\\.git\\objects\\42\\11cdce7f5ae8293b325e97870e0058d3df40ec\n",
      ".\\.git\\objects\\45\\ebf96e63da28cf649c32aad3fb998484ec556c\n",
      ".\\.git\\objects\\47\\6a4f7cc9c6fa966cdba7ff3bb34afc0867ba99\n",
      ".\\.git\\objects\\47\\9416cc2e8514a806ac5f137de2bc849012bb14\n",
      ".\\.git\\objects\\4d\\4250314c1c9200b767a28bc55f64d2195c5ae2\n",
      ".\\.git\\objects\\4e\\de82e5f182372d31c0eadaed84c2fb95d7509a\n",
      ".\\.git\\objects\\50\\18a14fa4e8962c121ce9df28a8050b065f41fa\n",
      ".\\.git\\objects\\53\\c5538e5dc70d8044d01356d88f57a13b63d089\n",
      ".\\.git\\objects\\54\\e79b817afb23553a2699665bc78c2324f5d9dd\n",
      ".\\.git\\objects\\58\\19b597cf902e426d3c3af29a2259b79bbba9ee\n",
      ".\\.git\\objects\\5c\\7c92cb4803ba7c542c9d235cc55e28215777e3\n",
      ".\\.git\\objects\\5c\\a77c7e3a6d83a3de446565f3fc85309ee73fb3\n",
      ".\\.git\\objects\\61\\9c889fc45a91035e2a9059b530162f275c5289\n",
      ".\\.git\\objects\\64\\ee493f7957516d0c4f0285a5c9fd2da6c7d31a\n",
      ".\\.git\\objects\\68\\b7a7585d59cbd1cffce197b1416a13e3f493d5\n",
      ".\\.git\\objects\\69\\b3db3c18e4fd700289f7043f2f2c9144ab5e70\n",
      ".\\.git\\objects\\6c\\4a060738e8286a7f390d1a457683032826495b\n",
      ".\\.git\\objects\\6c\\60922e960eaa6e3b2eb4750b9a179c5d0495c2\n",
      ".\\.git\\objects\\6d\\83a1afac3899931f713d2d32fd61ea7d7d0e9b\n",
      ".\\.git\\objects\\6e\\54912db9fec3b019604be8202deb0928fe536e\n",
      ".\\.git\\objects\\6e\\7c376e7d325be665c71c902399e9603821865b\n",
      ".\\.git\\objects\\6e\\bd8ae0aa7196a627f33700eb9bc351e38e9458\n",
      ".\\.git\\objects\\71\\47e5338b58be420f038df95c5472247a45773b\n",
      ".\\.git\\objects\\71\\a2b9f664684152e3a9407972d0172824b3923d\n",
      ".\\.git\\objects\\72\\eea560a9be796ea318f315cbf84a416bf80d93\n",
      ".\\.git\\objects\\77\\9f3be55164e7dfce8b63cfc4bc374183cf4ce2\n",
      ".\\.git\\objects\\7b\\1e942828db2d7889bc8bc36e8ed698eccce01f\n",
      ".\\.git\\objects\\7b\\cb87c23b67b74d7934da3a98141d33f2bce9fb\n",
      ".\\.git\\objects\\7c\\0e861373cafe10549130a29ceca5cb22412299\n",
      ".\\.git\\objects\\7e\\40a08d8df1c594acf181d5005ada8a1bf79bc7\n",
      ".\\.git\\objects\\83\\2c3ade2351131e4ba13499c735ce340225804c\n",
      ".\\.git\\objects\\8a\\778314dc06c93c70f11807a25cb2af3a4c7be1\n",
      ".\\.git\\objects\\8a\\caf73eedcb1cffcd709093702f0847c6065c0a\n",
      ".\\.git\\objects\\8e\\13343923b0b824b1a2c0367b31d27018d06370\n",
      ".\\.git\\objects\\8e\\4c93409be61d0f6150283fbe477203aac9b8b6\n",
      ".\\.git\\objects\\95\\2999091dc373da5ede3ba7fa46dabb8b95b1d4\n",
      ".\\.git\\objects\\95\\b71db0ae7eddb009504679522afa1f0d2a72ff\n",
      ".\\.git\\objects\\96\\89fab5fd7d5eeecccda960c83b9196de6f7c82\n",
      ".\\.git\\objects\\9b\\68efb98a65294f8cd693178d8ee0417633b491\n",
      ".\\.git\\objects\\9c\\5ce1255a16d86acb201d36706e7e7ee7928479\n",
      ".\\.git\\objects\\a1\\b769e1fd54059afd0f28dcab759f2dbc9bc7da\n",
      ".\\.git\\objects\\a5\\5b965b4813f502846f98a181a6501be8ee30a5\n",
      ".\\.git\\objects\\a7\\f4595cd48bb6ceb05c20552f996975286a2532\n",
      ".\\.git\\objects\\aa\\b6f01d92a6c8a9731a64c72b769006fcc15b7b\n",
      ".\\.git\\objects\\ae\\d198e6961af9f55f9a776bb2eb2fc47cb206c7\n",
      ".\\.git\\objects\\b6\\1a92e88fe2b63a4c1d29e055c21c806f687267\n",
      ".\\.git\\objects\\bb\\6b516c39873f00c8f3c2a05b19a222a505ce58\n",
      ".\\.git\\objects\\bc\\39b66e36e3768981bfab17bd73fe660f5578d2\n",
      ".\\.git\\objects\\bc\\db1d0a654e170f3b9a2c641071c9fb2314c6e0\n",
      ".\\.git\\objects\\cf\\56b85e07ab2cac0f4d09f9e9a0e2850d9a934e\n",
      ".\\.git\\objects\\d5\\01d1e57e0aba3377717496e4784d56466ea0ce\n",
      ".\\.git\\objects\\d9\\26de446ab74f7db66835553696eeac4dfe4f89\n",
      ".\\.git\\objects\\da\\5b45771597e5c92b756307bf28c56c7ceae825\n",
      ".\\.git\\objects\\e2\\6853bb0afa31685f4aa3a8d132853e68a2967f\n",
      ".\\.git\\objects\\e8\\f2a7d6c9d64b6de8814df66ffab65275a3a7b2\n",
      ".\\.git\\objects\\f4\\e62226a3254e193ed19aee96c864aa855c3cc4\n",
      ".\\.git\\objects\\f8\\3a54792e6472a0efc4b894c27db1f7a7c0c470\n",
      ".\\.git\\objects\\fb\\482effcb040ef5131e766b261dafec21625756\n",
      ".\\.git\\objects\\fd\\77660802c1c28dd2f77e7774f3d2b802c1ca45\n",
      ".\\.git\\objects\\ff\\3233c176e90bd8caed6d4dd830603469307110\n",
      ".\\.git\\objects\\pack\\pack-1f09828d7b4834060f6ac901c43221a9da94d7de.idx\n",
      ".\\.git\\objects\\pack\\pack-1f09828d7b4834060f6ac901c43221a9da94d7de.pack\n",
      ".\\.git\\objects\\pack\\pack-1f09828d7b4834060f6ac901c43221a9da94d7de.rev\n",
      ".\\.git\\refs\\heads\\main\n",
      ".\\.git\\refs\\remotes\\origin\\HEAD\n",
      ".\\.git\\refs\\remotes\\origin\\main\n",
      ".\\.idea\\.gitignore\n",
      ".\\.idea\\kaggle-jigsaw.iml\n",
      ".\\.idea\\misc.xml\n",
      ".\\.idea\\modules.xml\n",
      ".\\.idea\\vcs.xml\n",
      ".\\.idea\\workspace.xml\n",
      ".\\.idea\\inspectionProfiles\\profiles_settings.xml\n",
      ".\\.idea\\inspectionProfiles\\Project_Default.xml\n",
      ".\\.idea\\shelf\\Uncommitted_changes_before_Update_at_8_2_2025_8_38_PM__Changes_.xml\n",
      ".\\.idea\\shelf\\Uncommitted_changes_before_Update_at_8_6_2025_8_46_PM__Changes_.xml\n",
      ".\\.idea\\shelf\\Uncommitted_changes_before_Update_at_8_2_2025_8_38_PM_[Changes]\\shelved.patch\n",
      ".\\.idea\\shelf\\Uncommitted_changes_before_Update_at_8_6_2025_8_46_PM_[Changes]\\shelved.patch\n",
      ".\\__pycache__\\Jigsaw.cpython-312.pyc\n"
     ]
    }
   ],
   "execution_count": 3
  },
  {
   "metadata": {
    "ExecuteTime": {
     "end_time": "2025-08-08T00:18:53.481750Z",
     "start_time": "2025-08-07T23:36:54.049414Z"
    }
   },
   "cell_type": "code",
   "source": [
    "import numpy as np\n",
    "import pandas as pd\n",
    "import torch\n",
    "import torch.nn as nn\n",
    "from sklearn.metrics import classification_report, roc_auc_score\n",
    "from sklearn.model_selection import StratifiedKFold\n",
    "from torch.optim import AdamW\n",
    "from torch.utils.data import Dataset, DataLoader\n",
    "from tqdm import tqdm\n",
    "from transformers import AutoTokenizer, AutoModel, get_linear_schedule_with_warmup\n",
    "\n",
    "# -----------------------------\n",
    "# Paths and Hyperparameters\n",
    "# -----------------------------\n",
    "MODEL_PATH = \"C:/Users/satra/Downloads/xlm_roberta_base_offline\"\n",
    "TRAIN_PATH = \"C:/Users/satra/Downloads/jigsaw-agile-community-rules/train.csv\"\n",
    "TEST_PATH = \"C:/Users/satra/Downloads/jigsaw-agile-community-rules/test.csv\"\n",
    "\n",
    "N_EPOCHS = 3\n",
    "k_folds = 5\n",
    "BATCH_SIZE = 8\n",
    "MAX_LEN = 128\n",
    "\n",
    "# -----------------------------\n",
    "# Load and preprocess data\n",
    "# -----------------------------\n",
    "df_trn = pd.read_csv(TRAIN_PATH)\n",
    "df_trn = df_trn.sample(frac=0.01, random_state=42).reset_index(drop=True)\n",
    "df_tst = pd.read_csv(TEST_PATH)\n",
    "\n",
    "def fill_empty_examples_pandas(df):\n",
    "    example_cols = ['positive_example_1', 'positive_example_2', 'negative_example_1', 'negative_example_2']\n",
    "    for col in example_cols:\n",
    "        df[col] = df[col].fillna('').astype(str)\n",
    "\n",
    "    df['positive_example_1'] = df['positive_example_1'].mask(df['positive_example_1'] == '', df['positive_example_2'])\n",
    "    df['positive_example_2'] = df['positive_example_2'].mask(df['positive_example_2'] == '', df['positive_example_1'])\n",
    "    df['negative_example_1'] = df['negative_example_1'].mask(df['negative_example_1'] == '', df['negative_example_2'])\n",
    "    df['negative_example_2'] = df['negative_example_2'].mask(df['negative_example_2'] == '', df['negative_example_1'])\n",
    "    return df\n",
    "\n",
    "def extract_texts(row):\n",
    "    return {\n",
    "        \"body\": row[\"body\"],\n",
    "        \"rule\": row[\"rule\"],\n",
    "        \"subreddit\": row[\"subreddit\"],\n",
    "        \"pos1\": row['positive_example_1'],\n",
    "        \"pos2\": row['positive_example_2'],\n",
    "        \"neg1\": row['negative_example_1'],\n",
    "        \"neg2\": row['negative_example_2'],\n",
    "    }\n",
    "\n",
    "df_trn = fill_empty_examples_pandas(df_trn)\n",
    "df_tst = fill_empty_examples_pandas(df_tst)\n",
    "df_trn[\"inputs\"] = df_trn.apply(extract_texts, axis=1)\n",
    "df_tst[\"inputs\"] = df_tst.apply(extract_texts, axis=1)\n",
    "\n",
    "# -----------------------------\n",
    "# Dataset\n",
    "# -----------------------------\n",
    "class MultiInputDataset(Dataset):\n",
    "    def __init__(self, df, tokenizer, max_len=MAX_LEN, is_test=False):\n",
    "        self.df = df\n",
    "        self.tokenizer = tokenizer\n",
    "        self.max_len = max_len\n",
    "        self.is_test = is_test\n",
    "\n",
    "    def __len__(self):\n",
    "        return len(self.df)\n",
    "\n",
    "    def __getitem__(self, idx):\n",
    "        row = self.df.iloc[idx]\n",
    "        item = {}\n",
    "        for field in [\"body\", \"rule\", \"subreddit\", \"pos1\", \"pos2\", \"neg1\", \"neg2\"]:\n",
    "            encoded = self.tokenizer(row[\"inputs\"][field], truncation=True, padding='max_length', max_length=self.max_len, return_tensors=\"pt\")\n",
    "            for key in encoded:\n",
    "                item[f\"{field}_{key}\"] = encoded[key].squeeze(0)\n",
    "        if not self.is_test:\n",
    "            item[\"label\"] = torch.tensor(row[\"rule_violation\"], dtype=torch.float32)\n",
    "        return item\n",
    "\n",
    "# -----------------------------\n",
    "# Contrastive Loss\n",
    "# -----------------------------\n",
    "class SupConLoss(nn.Module):\n",
    "    def __init__(self, temperature=0.07):\n",
    "        super().__init__()\n",
    "        self.temperature = temperature\n",
    "\n",
    "    def forward(self, features, labels):\n",
    "        device = features.device\n",
    "        features = nn.functional.normalize(features, dim=1)\n",
    "        similarity_matrix = torch.matmul(features, features.T) / self.temperature\n",
    "\n",
    "        logits_mask = torch.eye(features.size(0), device=device).bool()\n",
    "        similarity_matrix.masked_fill_(logits_mask, -9e15)\n",
    "\n",
    "        labels = labels.contiguous().view(-1, 1)\n",
    "        mask = torch.eq(labels, labels.T).float().to(device)\n",
    "        mask.fill_diagonal_(0)\n",
    "\n",
    "        exp_sim = torch.exp(similarity_matrix)\n",
    "        denom = exp_sim.sum(dim=1, keepdim=True)\n",
    "\n",
    "        log_prob = similarity_matrix - torch.log(denom + 1e-12)\n",
    "        loss = - (mask * log_prob).sum(dim=1) / (mask.sum(dim=1) + 1e-12)\n",
    "        return loss.mean()\n",
    "\n",
    "# -----------------------------\n",
    "# Model\n",
    "# -----------------------------\n",
    "class MultiInputBERT(nn.Module):\n",
    "    def __init__(self):\n",
    "        super().__init__()\n",
    "        self.bert = AutoModel.from_pretrained(MODEL_PATH)\n",
    "        self.dropout = nn.Dropout(0.3)\n",
    "        self.classifier = nn.Sequential(\n",
    "            nn.Linear(768 * 7, 256),\n",
    "            nn.ReLU(),\n",
    "            nn.Linear(256, 1)\n",
    "        )\n",
    "\n",
    "    def forward(self, inputs, return_cls_only=False):\n",
    "        cls_outputs = []\n",
    "        for field in [\"body\", \"rule\", \"subreddit\", \"pos1\", \"pos2\", \"neg1\", \"neg2\"]:\n",
    "            out = self.bert(input_ids=inputs[f\"{field}_input_ids\"], attention_mask=inputs[f\"{field}_attention_mask\"])\n",
    "            cls_outputs.append(out.last_hidden_state[:, 0])\n",
    "\n",
    "        x = torch.cat(cls_outputs, dim=1)\n",
    "        if return_cls_only:\n",
    "            return x\n",
    "        x = self.dropout(x)\n",
    "        return self.classifier(x)\n",
    "\n",
    "# -----------------------------\n",
    "# Training\n",
    "# -----------------------------\n",
    "tokenizer = AutoTokenizer.from_pretrained(MODEL_PATH)\n",
    "device = torch.device(\"cuda\" if torch.cuda.is_available() else \"cpu\")\n",
    "\n",
    "skf = StratifiedKFold(n_splits=k_folds, shuffle=True, random_state=42)\n",
    "oof_preds = np.zeros(len(df_trn))\n",
    "test_preds_folds = []\n",
    "\n",
    "for fold, (train_idx, val_idx) in enumerate(skf.split(df_trn, df_trn['rule_violation'])):\n",
    "    print(f\"\\n--- Fold {fold + 1} ---\")\n",
    "    train_df = df_trn.iloc[train_idx].reset_index(drop=True)\n",
    "    val_df = df_trn.iloc[val_idx].reset_index(drop=True)\n",
    "\n",
    "    train_loader = DataLoader(MultiInputDataset(train_df, tokenizer), batch_size=BATCH_SIZE, shuffle=True)\n",
    "    val_loader = DataLoader(MultiInputDataset(val_df, tokenizer), batch_size=BATCH_SIZE)\n",
    "    test_loader = DataLoader(MultiInputDataset(df_tst, tokenizer, is_test=True), batch_size=BATCH_SIZE)\n",
    "\n",
    "    model = MultiInputBERT().to(device)\n",
    "    optimizer = AdamW(model.parameters(), lr=5e-6)\n",
    "    scheduler = get_linear_schedule_with_warmup(optimizer, int(len(train_loader) * N_EPOCHS * 0.05), len(train_loader) * N_EPOCHS)\n",
    "\n",
    "    contrastive_loss_fn = SupConLoss()\n",
    "    bce_loss_fn = nn.BCEWithLogitsLoss()\n",
    "\n",
    "    best_auc = -1\n",
    "    best_state = None\n",
    "\n",
    "    for epoch in range(N_EPOCHS):\n",
    "        model.train()\n",
    "        total_loss = 0\n",
    "        for batch in tqdm(train_loader, desc=f\"Epoch {epoch+1}\"):\n",
    "            inputs = {k: v.to(device) for k, v in batch.items() if k != \"label\"}\n",
    "            labels = batch[\"label\"].to(device)\n",
    "\n",
    "            optimizer.zero_grad()\n",
    "            cls_feats = model(inputs, return_cls_only=True)\n",
    "            logits = model(inputs).squeeze(-1)\n",
    "\n",
    "            loss_bce = bce_loss_fn(logits, labels)\n",
    "            loss_con = contrastive_loss_fn(cls_feats, labels)\n",
    "            loss = 0.7 * loss_bce + 0.3 * loss_con\n",
    "\n",
    "            loss.backward()\n",
    "            optimizer.step()\n",
    "            scheduler.step()\n",
    "            total_loss += loss.item()\n",
    "        print(f\"Loss: {total_loss / len(train_loader):.4f}\")\n",
    "\n",
    "        # Validation\n",
    "        model.eval()\n",
    "        val_logits, val_labels = [], []\n",
    "        with torch.no_grad():\n",
    "            for batch in val_loader:\n",
    "                inputs = {k: v.to(device) for k, v in batch.items() if k != \"label\"}\n",
    "                labels = batch[\"label\"].to(device)\n",
    "                logits = model(inputs).squeeze(-1)\n",
    "                probs = torch.sigmoid(logits).cpu().numpy()\n",
    "                val_logits.extend(probs)\n",
    "                val_labels.extend(labels.cpu().numpy())\n",
    "\n",
    "        val_auc = roc_auc_score(val_labels, val_logits)\n",
    "        print(f\"Val AUC: {val_auc:.4f}\")\n",
    "\n",
    "        if val_auc > best_auc:\n",
    "            best_auc = val_auc\n",
    "            best_state = model.state_dict()\n",
    "\n",
    "    model.load_state_dict(best_state)\n",
    "    print(f\"Fold {fold + 1} Best AUC: {best_auc:.4f}\")\n",
    "    oof_preds[val_idx] = np.array(val_logits)\n",
    "\n",
    "    # Test prediction\n",
    "    model.eval()\n",
    "    test_probs = []\n",
    "    with torch.no_grad():\n",
    "        for batch in test_loader:\n",
    "            inputs = {k: v.to(device) for k, v in batch.items()}\n",
    "            logits = model(inputs).squeeze(-1)\n",
    "            probs = torch.sigmoid(logits).cpu().numpy()\n",
    "            test_probs.extend(probs)\n",
    "    test_preds_folds.append(test_probs)\n",
    "\n",
    "# -----------------------------\n",
    "# Final output\n",
    "# -----------------------------\n",
    "overall_auc = roc_auc_score(df_trn['rule_violation'], oof_preds)\n",
    "print(f\"\\nOverall OOF AUC: {overall_auc:.4f}\")\n",
    "\n",
    "submission = pd.DataFrame({\n",
    "    \"row_id\": df_tst[\"row_id\"],\n",
    "    \"rule_violation\": np.mean(test_preds_folds, axis=0)\n",
    "})\n",
    "submission.to_csv(\"submission.csv\", index=False)\n",
    "print(\"submission.csv created.\")\n"
   ],
   "id": "a1ef94f5b6a4c89b",
   "outputs": [
    {
     "name": "stderr",
     "output_type": "stream",
     "text": [
      "Some weights of XLMRobertaModel were not initialized from the model checkpoint at C:/Users/satra/Downloads/xlm_roberta_base_offline and are newly initialized: ['pooler.dense.bias', 'pooler.dense.weight']\n",
      "You should probably TRAIN this model on a down-stream task to be able to use it for predictions and inference.\n"
     ]
    },
    {
     "name": "stdout",
     "output_type": "stream",
     "text": [
      "\n",
      "--- Fold 1 ---\n"
     ]
    },
    {
     "name": "stderr",
     "output_type": "stream",
     "text": [
      "Epoch 1:   0%|          | 0/2 [00:00<?, ?it/s]C:\\Users\\satra\\AppData\\Local\\Packages\\PythonSoftwareFoundation.Python.3.12_qbz5n2kfra8p0\\LocalCache\\local-packages\\Python312\\site-packages\\torch\\nn\\modules\\module.py:1562: FutureWarning: `encoder_attention_mask` is deprecated and will be removed in version 4.55.0 for `XLMRobertaSdpaSelfAttention.forward`.\n",
      "  return forward_call(*args, **kwargs)\n",
      "Epoch 1: 100%|██████████| 2/2 [02:06<00:00, 63.18s/it]\n"
     ]
    },
    {
     "name": "stdout",
     "output_type": "stream",
     "text": [
      "Loss: 1.1271\n",
      "Val AUC: 0.7500\n"
     ]
    },
    {
     "name": "stderr",
     "output_type": "stream",
     "text": [
      "Epoch 2:   0%|          | 0/2 [00:00<?, ?it/s]C:\\Users\\satra\\AppData\\Local\\Packages\\PythonSoftwareFoundation.Python.3.12_qbz5n2kfra8p0\\LocalCache\\local-packages\\Python312\\site-packages\\torch\\nn\\modules\\module.py:1562: FutureWarning: `encoder_attention_mask` is deprecated and will be removed in version 4.55.0 for `XLMRobertaSdpaSelfAttention.forward`.\n",
      "  return forward_call(*args, **kwargs)\n",
      "Epoch 2: 100%|██████████| 2/2 [02:08<00:00, 64.38s/it]\n"
     ]
    },
    {
     "name": "stdout",
     "output_type": "stream",
     "text": [
      "Loss: 1.0878\n",
      "Val AUC: 0.7500\n"
     ]
    },
    {
     "name": "stderr",
     "output_type": "stream",
     "text": [
      "Epoch 3:   0%|          | 0/2 [00:00<?, ?it/s]C:\\Users\\satra\\AppData\\Local\\Packages\\PythonSoftwareFoundation.Python.3.12_qbz5n2kfra8p0\\LocalCache\\local-packages\\Python312\\site-packages\\torch\\nn\\modules\\module.py:1562: FutureWarning: `encoder_attention_mask` is deprecated and will be removed in version 4.55.0 for `XLMRobertaSdpaSelfAttention.forward`.\n",
      "  return forward_call(*args, **kwargs)\n",
      "Epoch 3: 100%|██████████| 2/2 [02:37<00:00, 78.73s/it]\n"
     ]
    },
    {
     "name": "stdout",
     "output_type": "stream",
     "text": [
      "Loss: 1.0932\n",
      "Val AUC: 0.7500\n",
      "Fold 1 Best AUC: 0.7500\n"
     ]
    },
    {
     "name": "stderr",
     "output_type": "stream",
     "text": [
      "C:\\Users\\satra\\AppData\\Local\\Packages\\PythonSoftwareFoundation.Python.3.12_qbz5n2kfra8p0\\LocalCache\\local-packages\\Python312\\site-packages\\torch\\nn\\modules\\module.py:1562: FutureWarning: `encoder_attention_mask` is deprecated and will be removed in version 4.55.0 for `XLMRobertaSdpaSelfAttention.forward`.\n",
      "  return forward_call(*args, **kwargs)\n",
      "Some weights of XLMRobertaModel were not initialized from the model checkpoint at C:/Users/satra/Downloads/xlm_roberta_base_offline and are newly initialized: ['pooler.dense.bias', 'pooler.dense.weight']\n",
      "You should probably TRAIN this model on a down-stream task to be able to use it for predictions and inference.\n"
     ]
    },
    {
     "name": "stdout",
     "output_type": "stream",
     "text": [
      "\n",
      "--- Fold 2 ---\n"
     ]
    },
    {
     "name": "stderr",
     "output_type": "stream",
     "text": [
      "Epoch 1: 100%|██████████| 2/2 [03:40<00:00, 110.30s/it]\n"
     ]
    },
    {
     "name": "stdout",
     "output_type": "stream",
     "text": [
      "Loss: 1.1275\n",
      "Val AUC: 1.0000\n"
     ]
    },
    {
     "name": "stderr",
     "output_type": "stream",
     "text": [
      "Epoch 2:   0%|          | 0/2 [00:00<?, ?it/s]C:\\Users\\satra\\AppData\\Local\\Packages\\PythonSoftwareFoundation.Python.3.12_qbz5n2kfra8p0\\LocalCache\\local-packages\\Python312\\site-packages\\torch\\nn\\modules\\module.py:1562: FutureWarning: `encoder_attention_mask` is deprecated and will be removed in version 4.55.0 for `XLMRobertaSdpaSelfAttention.forward`.\n",
      "  return forward_call(*args, **kwargs)\n",
      "Epoch 2: 100%|██████████| 2/2 [02:16<00:00, 68.19s/it]\n"
     ]
    },
    {
     "name": "stdout",
     "output_type": "stream",
     "text": [
      "Loss: 1.0869\n",
      "Val AUC: 1.0000\n"
     ]
    },
    {
     "name": "stderr",
     "output_type": "stream",
     "text": [
      "Epoch 3:   0%|          | 0/2 [00:00<?, ?it/s]C:\\Users\\satra\\AppData\\Local\\Packages\\PythonSoftwareFoundation.Python.3.12_qbz5n2kfra8p0\\LocalCache\\local-packages\\Python312\\site-packages\\torch\\nn\\modules\\module.py:1562: FutureWarning: `encoder_attention_mask` is deprecated and will be removed in version 4.55.0 for `XLMRobertaSdpaSelfAttention.forward`.\n",
      "  return forward_call(*args, **kwargs)\n",
      "Epoch 3: 100%|██████████| 2/2 [02:35<00:00, 77.62s/it]\n"
     ]
    },
    {
     "name": "stdout",
     "output_type": "stream",
     "text": [
      "Loss: 1.1019\n",
      "Val AUC: 1.0000\n",
      "Fold 2 Best AUC: 1.0000\n"
     ]
    },
    {
     "name": "stderr",
     "output_type": "stream",
     "text": [
      "C:\\Users\\satra\\AppData\\Local\\Packages\\PythonSoftwareFoundation.Python.3.12_qbz5n2kfra8p0\\LocalCache\\local-packages\\Python312\\site-packages\\torch\\nn\\modules\\module.py:1562: FutureWarning: `encoder_attention_mask` is deprecated and will be removed in version 4.55.0 for `XLMRobertaSdpaSelfAttention.forward`.\n",
      "  return forward_call(*args, **kwargs)\n",
      "Some weights of XLMRobertaModel were not initialized from the model checkpoint at C:/Users/satra/Downloads/xlm_roberta_base_offline and are newly initialized: ['pooler.dense.bias', 'pooler.dense.weight']\n",
      "You should probably TRAIN this model on a down-stream task to be able to use it for predictions and inference.\n"
     ]
    },
    {
     "name": "stdout",
     "output_type": "stream",
     "text": [
      "\n",
      "--- Fold 3 ---\n"
     ]
    },
    {
     "name": "stderr",
     "output_type": "stream",
     "text": [
      "Epoch 1: 100%|██████████| 2/2 [02:49<00:00, 84.97s/it]\n"
     ]
    },
    {
     "name": "stdout",
     "output_type": "stream",
     "text": [
      "Loss: 1.1114\n",
      "Val AUC: 0.7500\n"
     ]
    },
    {
     "name": "stderr",
     "output_type": "stream",
     "text": [
      "Epoch 2:   0%|          | 0/2 [00:00<?, ?it/s]C:\\Users\\satra\\AppData\\Local\\Packages\\PythonSoftwareFoundation.Python.3.12_qbz5n2kfra8p0\\LocalCache\\local-packages\\Python312\\site-packages\\torch\\nn\\modules\\module.py:1562: FutureWarning: `encoder_attention_mask` is deprecated and will be removed in version 4.55.0 for `XLMRobertaSdpaSelfAttention.forward`.\n",
      "  return forward_call(*args, **kwargs)\n",
      "Epoch 2: 100%|██████████| 2/2 [02:41<00:00, 80.99s/it]\n"
     ]
    },
    {
     "name": "stdout",
     "output_type": "stream",
     "text": [
      "Loss: 1.1390\n",
      "Val AUC: 0.7500\n"
     ]
    },
    {
     "name": "stderr",
     "output_type": "stream",
     "text": [
      "Epoch 3:   0%|          | 0/2 [00:00<?, ?it/s]C:\\Users\\satra\\AppData\\Local\\Packages\\PythonSoftwareFoundation.Python.3.12_qbz5n2kfra8p0\\LocalCache\\local-packages\\Python312\\site-packages\\torch\\nn\\modules\\module.py:1562: FutureWarning: `encoder_attention_mask` is deprecated and will be removed in version 4.55.0 for `XLMRobertaSdpaSelfAttention.forward`.\n",
      "  return forward_call(*args, **kwargs)\n",
      "Epoch 3: 100%|██████████| 2/2 [02:37<00:00, 78.65s/it]\n"
     ]
    },
    {
     "name": "stdout",
     "output_type": "stream",
     "text": [
      "Loss: 1.0870\n",
      "Val AUC: 0.7500\n",
      "Fold 3 Best AUC: 0.7500\n"
     ]
    },
    {
     "name": "stderr",
     "output_type": "stream",
     "text": [
      "C:\\Users\\satra\\AppData\\Local\\Packages\\PythonSoftwareFoundation.Python.3.12_qbz5n2kfra8p0\\LocalCache\\local-packages\\Python312\\site-packages\\torch\\nn\\modules\\module.py:1562: FutureWarning: `encoder_attention_mask` is deprecated and will be removed in version 4.55.0 for `XLMRobertaSdpaSelfAttention.forward`.\n",
      "  return forward_call(*args, **kwargs)\n",
      "Some weights of XLMRobertaModel were not initialized from the model checkpoint at C:/Users/satra/Downloads/xlm_roberta_base_offline and are newly initialized: ['pooler.dense.bias', 'pooler.dense.weight']\n",
      "You should probably TRAIN this model on a down-stream task to be able to use it for predictions and inference.\n"
     ]
    },
    {
     "name": "stdout",
     "output_type": "stream",
     "text": [
      "\n",
      "--- Fold 4 ---\n"
     ]
    },
    {
     "name": "stderr",
     "output_type": "stream",
     "text": [
      "Epoch 1: 100%|██████████| 2/2 [02:58<00:00, 89.47s/it]\n"
     ]
    },
    {
     "name": "stdout",
     "output_type": "stream",
     "text": [
      "Loss: 1.1292\n",
      "Val AUC: 0.7500\n"
     ]
    },
    {
     "name": "stderr",
     "output_type": "stream",
     "text": [
      "Epoch 2:   0%|          | 0/2 [00:00<?, ?it/s]C:\\Users\\satra\\AppData\\Local\\Packages\\PythonSoftwareFoundation.Python.3.12_qbz5n2kfra8p0\\LocalCache\\local-packages\\Python312\\site-packages\\torch\\nn\\modules\\module.py:1562: FutureWarning: `encoder_attention_mask` is deprecated and will be removed in version 4.55.0 for `XLMRobertaSdpaSelfAttention.forward`.\n",
      "  return forward_call(*args, **kwargs)\n",
      "Epoch 2: 100%|██████████| 2/2 [02:50<00:00, 85.47s/it]\n"
     ]
    },
    {
     "name": "stdout",
     "output_type": "stream",
     "text": [
      "Loss: 1.1108\n",
      "Val AUC: 0.7500\n"
     ]
    },
    {
     "name": "stderr",
     "output_type": "stream",
     "text": [
      "Epoch 3:   0%|          | 0/2 [00:00<?, ?it/s]C:\\Users\\satra\\AppData\\Local\\Packages\\PythonSoftwareFoundation.Python.3.12_qbz5n2kfra8p0\\LocalCache\\local-packages\\Python312\\site-packages\\torch\\nn\\modules\\module.py:1562: FutureWarning: `encoder_attention_mask` is deprecated and will be removed in version 4.55.0 for `XLMRobertaSdpaSelfAttention.forward`.\n",
      "  return forward_call(*args, **kwargs)\n",
      "Epoch 3: 100%|██████████| 2/2 [03:00<00:00, 90.13s/it]\n"
     ]
    },
    {
     "name": "stdout",
     "output_type": "stream",
     "text": [
      "Loss: 1.1330\n",
      "Val AUC: 0.7500\n",
      "Fold 4 Best AUC: 0.7500\n"
     ]
    },
    {
     "name": "stderr",
     "output_type": "stream",
     "text": [
      "C:\\Users\\satra\\AppData\\Local\\Packages\\PythonSoftwareFoundation.Python.3.12_qbz5n2kfra8p0\\LocalCache\\local-packages\\Python312\\site-packages\\torch\\nn\\modules\\module.py:1562: FutureWarning: `encoder_attention_mask` is deprecated and will be removed in version 4.55.0 for `XLMRobertaSdpaSelfAttention.forward`.\n",
      "  return forward_call(*args, **kwargs)\n",
      "Some weights of XLMRobertaModel were not initialized from the model checkpoint at C:/Users/satra/Downloads/xlm_roberta_base_offline and are newly initialized: ['pooler.dense.bias', 'pooler.dense.weight']\n",
      "You should probably TRAIN this model on a down-stream task to be able to use it for predictions and inference.\n"
     ]
    },
    {
     "name": "stdout",
     "output_type": "stream",
     "text": [
      "\n",
      "--- Fold 5 ---\n"
     ]
    },
    {
     "name": "stderr",
     "output_type": "stream",
     "text": [
      "Epoch 1: 100%|██████████| 2/2 [02:05<00:00, 62.73s/it]\n"
     ]
    },
    {
     "name": "stdout",
     "output_type": "stream",
     "text": [
      "Loss: 1.1709\n",
      "Val AUC: 1.0000\n"
     ]
    },
    {
     "name": "stderr",
     "output_type": "stream",
     "text": [
      "Epoch 2:   0%|          | 0/2 [00:00<?, ?it/s]C:\\Users\\satra\\AppData\\Local\\Packages\\PythonSoftwareFoundation.Python.3.12_qbz5n2kfra8p0\\LocalCache\\local-packages\\Python312\\site-packages\\torch\\nn\\modules\\module.py:1562: FutureWarning: `encoder_attention_mask` is deprecated and will be removed in version 4.55.0 for `XLMRobertaSdpaSelfAttention.forward`.\n",
      "  return forward_call(*args, **kwargs)\n",
      "Epoch 2: 100%|██████████| 2/2 [02:00<00:00, 60.07s/it]\n"
     ]
    },
    {
     "name": "stdout",
     "output_type": "stream",
     "text": [
      "Loss: 1.1649\n",
      "Val AUC: 0.6667\n"
     ]
    },
    {
     "name": "stderr",
     "output_type": "stream",
     "text": [
      "Epoch 3:   0%|          | 0/2 [00:00<?, ?it/s]C:\\Users\\satra\\AppData\\Local\\Packages\\PythonSoftwareFoundation.Python.3.12_qbz5n2kfra8p0\\LocalCache\\local-packages\\Python312\\site-packages\\torch\\nn\\modules\\module.py:1562: FutureWarning: `encoder_attention_mask` is deprecated and will be removed in version 4.55.0 for `XLMRobertaSdpaSelfAttention.forward`.\n",
      "  return forward_call(*args, **kwargs)\n",
      "Epoch 3: 100%|██████████| 2/2 [01:55<00:00, 57.88s/it]\n"
     ]
    },
    {
     "name": "stdout",
     "output_type": "stream",
     "text": [
      "Loss: 1.1602\n",
      "Val AUC: 0.6667\n",
      "Fold 5 Best AUC: 1.0000\n"
     ]
    },
    {
     "name": "stderr",
     "output_type": "stream",
     "text": [
      "C:\\Users\\satra\\AppData\\Local\\Packages\\PythonSoftwareFoundation.Python.3.12_qbz5n2kfra8p0\\LocalCache\\local-packages\\Python312\\site-packages\\torch\\nn\\modules\\module.py:1562: FutureWarning: `encoder_attention_mask` is deprecated and will be removed in version 4.55.0 for `XLMRobertaSdpaSelfAttention.forward`.\n",
      "  return forward_call(*args, **kwargs)\n"
     ]
    },
    {
     "name": "stdout",
     "output_type": "stream",
     "text": [
      "\n",
      "Overall OOF AUC: 0.5152\n",
      "submission.csv created.\n"
     ]
    }
   ],
   "execution_count": 4
  }
 ],
 "metadata": {
  "kaggle": {
   "accelerator": "gpu",
   "dataSources": [
    {
     "databundleVersionId": 13121456,
     "isSourceIdPinned": false,
     "sourceId": 94635,
     "sourceType": "competition"
    },
    {
     "datasetId": 7984956,
     "sourceId": 12636496,
     "sourceType": "datasetVersion"
    }
   ],
   "dockerImageVersionId": 31089,
   "isGpuEnabled": true,
   "isInternetEnabled": false,
   "language": "python",
   "sourceType": "notebook"
  },
  "kernelspec": {
   "display_name": "Python 3",
   "language": "python",
   "name": "python3"
  },
  "language_info": {
   "codemirror_mode": {
    "name": "ipython",
    "version": 3
   },
   "file_extension": ".py",
   "mimetype": "text/x-python",
   "name": "python",
   "nbconvert_exporter": "python",
   "pygments_lexer": "ipython3",
   "version": "3.11.13"
  },
  "papermill": {
   "default_parameters": {},
   "duration": 7311.633087,
   "end_time": "2025-08-03T16:13:47.493920",
   "environment_variables": {},
   "exception": null,
   "input_path": "__notebook__.ipynb",
   "output_path": "__notebook__.ipynb",
   "parameters": {},
   "start_time": "2025-08-03T14:11:55.860833",
   "version": "2.6.0"
  }
 },
 "nbformat": 4,
 "nbformat_minor": 5
}
