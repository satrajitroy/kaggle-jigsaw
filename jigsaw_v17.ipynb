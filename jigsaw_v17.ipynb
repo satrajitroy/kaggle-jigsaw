{
 "cells": [
  {
   "cell_type": "code",
   "execution_count": 1,
   "id": "6130d115",
   "metadata": {
    "_cell_guid": "b1076dfc-b9ad-4769-8c92-a6c4dae69d19",
    "_uuid": "8f2839f25d086af736a60e9eeb907d3b93b6e0e5",
    "execution": {
     "iopub.execute_input": "2025-08-06T03:23:13.088864Z",
     "iopub.status.busy": "2025-08-06T03:23:13.088514Z",
     "iopub.status.idle": "2025-08-06T03:23:14.570472Z",
     "shell.execute_reply": "2025-08-06T03:23:14.569479Z"
    },
    "papermill": {
     "duration": 1.48678,
     "end_time": "2025-08-06T03:23:14.571891",
     "exception": false,
     "start_time": "2025-08-06T03:23:13.085111",
     "status": "completed"
    },
    "tags": []
   },
   "outputs": [
    {
     "name": "stdout",
     "output_type": "stream",
     "text": [
      "/kaggle/input/jigsaw-agile-community-rules/sample_submission.csv\n",
      "/kaggle/input/jigsaw-agile-community-rules/train.csv\n",
      "/kaggle/input/jigsaw-agile-community-rules/test.csv\n",
      "/kaggle/input/xlm-roberta-base-offline/xlm_roberta_base_offline/config.json\n",
      "/kaggle/input/xlm-roberta-base-offline/xlm_roberta_base_offline/tokenizer_config.json\n",
      "/kaggle/input/xlm-roberta-base-offline/xlm_roberta_base_offline/model.safetensors\n",
      "/kaggle/input/xlm-roberta-base-offline/xlm_roberta_base_offline/special_tokens_map.json\n",
      "/kaggle/input/xlm-roberta-base-offline/xlm_roberta_base_offline/sentencepiece.bpe.model\n"
     ]
    }
   ],
   "source": [
    "# This Python 3 environment comes with many helpful analytics libraries installed\n",
    "# It is defined by the kaggle/python Docker image: https://github.com/kaggle/docker-python\n",
    "# For example, here's several helpful packages to load\n",
    "\n",
    "import numpy as np # linear algebra\n",
    "import pandas as pd # data processing, CSV file I/O (e.g. pd.read_csv)\n",
    "\n",
    "# Input data files are available in the read-only \"../input/\" directory\n",
    "# For example, running this (by clicking run or pressing Shift+Enter) will list all files under the input directory\n",
    "\n",
    "import os\n",
    "for dirname, _, filenames in os.walk('/kaggle/input'):\n",
    "    for filename in filenames:\n",
    "        print(os.path.join(dirname, filename))\n",
    "\n",
    "# You can write up to 20GB to the current directory (/kaggle/working/) that gets preserved as output when you create a version using \"Save & Run All\" \n",
    "# You can also write temporary files to /kaggle/temp/, but they won't be saved outside of the current session"
   ]
  },
  {
   "cell_type": "code",
   "execution_count": 2,
   "id": "f871785f",
   "metadata": {
    "execution": {
     "iopub.execute_input": "2025-08-06T03:23:14.576980Z",
     "iopub.status.busy": "2025-08-06T03:23:14.576682Z",
     "iopub.status.idle": "2025-08-06T03:23:22.606345Z",
     "shell.execute_reply": "2025-08-06T03:23:22.605751Z"
    },
    "papermill": {
     "duration": 8.033448,
     "end_time": "2025-08-06T03:23:22.607731",
     "exception": false,
     "start_time": "2025-08-06T03:23:14.574283",
     "status": "completed"
    },
    "tags": []
   },
   "outputs": [],
   "source": [
    "import numpy as np\n",
    "import pandas as pd\n",
    "import torch\n",
    "import torch.nn as nn\n",
    "from sklearn.metrics import classification_report, roc_auc_score\n",
    "from sklearn.model_selection import StratifiedKFold\n",
    "from torch.optim import AdamW\n",
    "from torch.utils.data import Dataset, DataLoader\n",
    "from tqdm import tqdm\n",
    "from transformers import AutoTokenizer, AutoModel, get_linear_schedule_with_warmup"
   ]
  },
  {
   "cell_type": "code",
   "execution_count": null,
   "id": "70bab5bd",
   "metadata": {
    "papermill": {
     "duration": 0.001584,
     "end_time": "2025-08-06T03:23:22.611327",
     "exception": false,
     "start_time": "2025-08-06T03:23:22.609743",
     "status": "completed"
    },
    "tags": []
   },
   "outputs": [],
   "source": []
  },
  {
   "cell_type": "code",
   "execution_count": 3,
   "id": "c0225caa",
   "metadata": {
    "execution": {
     "iopub.execute_input": "2025-08-06T03:23:22.615788Z",
     "iopub.status.busy": "2025-08-06T03:23:22.615376Z",
     "iopub.status.idle": "2025-08-06T03:23:22.785666Z",
     "shell.execute_reply": "2025-08-06T03:23:22.784741Z"
    },
    "papermill": {
     "duration": 0.174062,
     "end_time": "2025-08-06T03:23:22.786979",
     "exception": false,
     "start_time": "2025-08-06T03:23:22.612917",
     "status": "completed"
    },
    "tags": []
   },
   "outputs": [
    {
     "name": "stdout",
     "output_type": "stream",
     "text": [
      "--- Comprehensive NaN Inspection for All Text Feature Columns ---\n",
      "\n",
      "--- NaN Counts per Text Feature Column ---\n",
      "body                  0\n",
      "rule                  0\n",
      "subreddit             0\n",
      "positive_example_1    0\n",
      "positive_example_2    0\n",
      "negative_example_1    0\n",
      "negative_example_2    0\n",
      "dtype: int64\n",
      "\n",
      "--- Analysis for 'body' column NaNs ---\n",
      "No NaN values found in 'body' column.\n",
      "\n",
      "--- Analysis for 'rule' column NaNs ---\n",
      "No NaN values found in 'rule' column.\n",
      "\n",
      "--- Analysis for 'subreddit' column NaNs ---\n",
      "No NaN values found in 'subreddit' column.\n",
      "\n",
      "--- Analysis for Example Columns NaNs ---\n",
      "No NaN values found in any example column.\n",
      "\n",
      "--- Overall rule_violation distribution: ---\n",
      "rule_violation\n",
      "1    0.508132\n",
      "0    0.491868\n",
      "Name: proportion, dtype: float64\n"
     ]
    }
   ],
   "source": [
    "# -----------------------------\n",
    "# Load and preprocess data\n",
    "# -----------------------------\n",
    "# Use Kaggle paths when running on Kaggle\n",
    "MODEL_PATH = \"/kaggle/input/xlm-roberta-base-offline/xlm_roberta_base_offline\"\n",
    "\n",
    "trn = \"/kaggle/input/jigsaw-agile-community-rules/train.csv\"\n",
    "tst = \"/kaggle/input/jigsaw-agile-community-rules/test.csv\"\n",
    "df_trn = pd.read_csv(trn)\n",
    "df_tst = pd.read_csv(tst)\n",
    "\n",
    "\n",
    "def fill_empty_examples_pandas(df):\n",
    "    example_cols = ['positive_example_1', 'positive_example_2', 'negative_example_1', 'negative_example_2']\n",
    "    for col in example_cols:\n",
    "        df[col] = df[col].fillna('').astype(str)\n",
    "\n",
    "    df['positive_example_1'] = df['positive_example_1'].mask(df['positive_example_1'] == '', df['positive_example_2'])\n",
    "    df['positive_example_2'] = df['positive_example_2'].mask(df['positive_example_2'] == '', df['positive_example_1'])\n",
    "\n",
    "    df['negative_example_1'] = df['negative_example_1'].mask(df['negative_example_1'] == '', df['negative_example_2'])\n",
    "    df['negative_example_2'] = df['negative_example_2'].mask(df['negative_example_2'] == '', df['negative_example_1'])\n",
    "\n",
    "    return df\n",
    "\n",
    "\n",
    "def getText(value):\n",
    "    return str(value) if pd.notna(value) else ''\n",
    "\n",
    "\n",
    "def extract_texts(row):\n",
    "    return {\n",
    "        \"body\": getText(row[\"body\"]),\n",
    "        \"rule\": getText(row[\"rule\"]),\n",
    "        \"subreddit\": getText(row[\"subreddit\"]),\n",
    "        \"pos1\": f\"{getText(row['positive_example_1'])}\",\n",
    "        \"pos2\": f\"{getText(row['positive_example_2'])}\",\n",
    "        \"neg1\": f\"{getText(row['negative_example_1'])}\",\n",
    "        \"neg2\": f\"{getText(row['negative_example_2'])}\",\n",
    "    }\n",
    "\n",
    "df_trn = fill_empty_examples_pandas(df_trn)\n",
    "df_tst = fill_empty_examples_pandas(df_tst)\n",
    "\n",
    "df_trn[\"inputs\"] = df_trn.apply(extract_texts, axis=1)\n",
    "\n",
    "df_tst['text_to_classify'] = df_tst['body'].apply(getText)\n",
    "df_tst[\"inputs\"] = df_tst.apply(extract_texts, axis=1)\n",
    "\n",
    "text_feature_cols = [\n",
    "    'body',\n",
    "    'rule',\n",
    "    'subreddit',\n",
    "    'positive_example_1',\n",
    "    'positive_example_2',\n",
    "    'negative_example_1',\n",
    "    'negative_example_2'\n",
    "]\n",
    "\n",
    "print(\"--- Comprehensive NaN Inspection for All Text Feature Columns ---\")\n",
    "\n",
    "# Count NaNs for each text feature column\n",
    "print(\"\\n--- NaN Counts per Text Feature Column ---\")\n",
    "print(df_trn[text_feature_cols].isnull().sum())\n",
    "\n",
    "# Analyze rows with NaNs in 'body' (most critical)\n",
    "print(\"\\n--- Analysis for 'body' column NaNs ---\")\n",
    "body_nan_rows = df_trn[df_trn['body'].isnull()]\n",
    "if not body_nan_rows.empty:\n",
    "    print(f\"Number of rows with NaN in 'body': {len(body_nan_rows)}\")\n",
    "    print(\"Rule violation distribution for rows with NaN in 'body':\")\n",
    "    print(body_nan_rows['rule_violation'].value_counts(normalize=True))\n",
    "else:\n",
    "    print(\"No NaN values found in 'body' column.\")\n",
    "\n",
    "# Analyze rows with NaNs in 'rule'\n",
    "print(\"\\n--- Analysis for 'rule' column NaNs ---\")\n",
    "rule_nan_rows = df_trn[df_trn['rule'].isnull()]\n",
    "if not rule_nan_rows.empty:\n",
    "    print(f\"Number of rows with NaN in 'rule': {len(rule_nan_rows)}\")\n",
    "    print(\"Rule violation distribution for rows with NaN in 'rule':\")\n",
    "    print(rule_nan_rows['rule_violation'].value_counts(normalize=True))\n",
    "else:\n",
    "    print(\"No NaN values found in 'rule' column.\")\n",
    "\n",
    "# Analyze rows with NaNs in 'subreddit'\n",
    "print(\"\\n--- Analysis for 'subreddit' column NaNs ---\")\n",
    "subreddit_nan_rows = df_trn[df_trn['subreddit'].isnull()]\n",
    "if not subreddit_nan_rows.empty:\n",
    "    print(f\"Number of rows with NaN in 'subreddit': {len(subreddit_nan_rows)}\")\n",
    "    print(\"Rule violation distribution for rows with NaN in 'subreddit':\")\n",
    "    print(subreddit_nan_rows['rule_violation'].value_counts(normalize=True))\n",
    "else:\n",
    "    print(\"No NaN values found in 'subreddit' column.\")\n",
    "\n",
    "# Analyze rows where ANY of the example columns are NaN\n",
    "print(\"\\n--- Analysis for Example Columns NaNs ---\")\n",
    "example_only_cols = [col for col in text_feature_cols if 'example' in col]\n",
    "df_any_example_nan = df_trn[df_trn[example_only_cols].isnull().any(axis=1)]\n",
    "if not df_any_example_nan.empty:\n",
    "    print(f\"Number of rows with NaN in ANY example column: {len(df_any_example_nan)}\")\n",
    "    print(\"Rule violation distribution for rows with NaN in ANY example column:\")\n",
    "    print(df_any_example_nan['rule_violation'].value_counts(normalize=True))\n",
    "else:\n",
    "    print(\"No NaN values found in any example column.\")\n",
    "\n",
    "# Overall rule_violation distribution (for comparison)\n",
    "print(f\"\\n--- Overall rule_violation distribution: ---\")\n",
    "print(df_trn['rule_violation'].value_counts(normalize=True))"
   ]
  },
  {
   "cell_type": "code",
   "execution_count": 4,
   "id": "a337b9c5",
   "metadata": {
    "execution": {
     "iopub.execute_input": "2025-08-06T03:23:22.792672Z",
     "iopub.status.busy": "2025-08-06T03:23:22.792125Z",
     "iopub.status.idle": "2025-08-06T03:23:22.801183Z",
     "shell.execute_reply": "2025-08-06T03:23:22.800519Z"
    },
    "papermill": {
     "duration": 0.013059,
     "end_time": "2025-08-06T03:23:22.802366",
     "exception": false,
     "start_time": "2025-08-06T03:23:22.789307",
     "status": "completed"
    },
    "tags": []
   },
   "outputs": [],
   "source": [
    "N_EPOCHS = 8\n",
    "k_folds = 5\n",
    "skf = StratifiedKFold(n_splits=k_folds, shuffle=True, random_state=42)\n",
    "\n",
    "# -----------------------------\n",
    "# Dataset\n",
    "# -----------------------------\n",
    "class MultiInputDataset(Dataset):\n",
    "    def __init__(self, df, tokenizer, max_len=128, is_test=False): # Renamed df_trn to df for generality\n",
    "        self.df = df\n",
    "        self.tokenizer = tokenizer\n",
    "        self.max_len = max_len\n",
    "        self.is_test = is_test\n",
    "\n",
    "    def __len__(self):\n",
    "        return len(self.df)\n",
    "\n",
    "    def __getitem__(self, idx):\n",
    "        row = self.df.iloc[idx]\n",
    "        item = {}\n",
    "        for field in [\"text_to_classify\", \"rule\", \"subreddit\"]:\n",
    "            encoded = self.tokenizer(\n",
    "                row[field],\n",
    "                truncation=True,\n",
    "                padding='max_length',\n",
    "                max_length=self.max_len,\n",
    "                return_tensors=\"pt\"\n",
    "            )\n",
    "\n",
    "            for key in encoded:\n",
    "                item[f\"{field}_{key}\"] = encoded[key].squeeze(0)\n",
    "        if not self.is_test:\n",
    "          item[\"label\"] = torch.tensor(row[\"rule_violation\"], dtype=torch.float32)\n",
    "        return item\n",
    "\n",
    "# -----------------------------\n",
    "# Model\n",
    "# -----------------------------\n",
    "class MultiInputBERT(nn.Module):\n",
    "    def __init__(self, model_name=MODEL_PATH):\n",
    "        super().__init__()\n",
    "        self.bert = AutoModel.from_pretrained(model_name)\n",
    "        self.dropout = nn.Dropout(0.3)\n",
    "        self.classifier = nn.Sequential(\n",
    "            nn.Linear(768 * 3, 256),\n",
    "            nn.ReLU(),\n",
    "            nn.Linear(256, 1) # Output a single logit\n",
    "        )\n",
    "\n",
    "    def forward(self, inputs):\n",
    "        cls_outputs = []\n",
    "        for field in [\"text_to_classify\", \"rule\", \"subreddit\"]:\n",
    "            out = self.bert(\n",
    "                input_ids=inputs[f\"{field}_input_ids\"],\n",
    "                attention_mask=inputs[f\"{field}_attention_mask\"]\n",
    "            )\n",
    "            cls_outputs.append(out.last_hidden_state[:, 0])  # CLS token\n",
    "        x = torch.cat(cls_outputs, dim=1)\n",
    "        x = self.dropout(x)\n",
    "        return self.classifier(x) # Return raw logits"
   ]
  },
  {
   "cell_type": "code",
   "execution_count": 5,
   "id": "af8be6a5",
   "metadata": {
    "execution": {
     "iopub.execute_input": "2025-08-06T03:23:22.807306Z",
     "iopub.status.busy": "2025-08-06T03:23:22.807090Z",
     "iopub.status.idle": "2025-08-06T07:46:43.059489Z",
     "shell.execute_reply": "2025-08-06T07:46:43.058374Z"
    },
    "papermill": {
     "duration": 15800.256266,
     "end_time": "2025-08-06T07:46:43.060711",
     "exception": false,
     "start_time": "2025-08-06T03:23:22.804445",
     "status": "completed"
    },
    "tags": []
   },
   "outputs": [
    {
     "name": "stdout",
     "output_type": "stream",
     "text": [
      "\n",
      "----- Fold 1 -----\n"
     ]
    },
    {
     "name": "stderr",
     "output_type": "stream",
     "text": [
      "2025-08-06 03:23:39.238464: E external/local_xla/xla/stream_executor/cuda/cuda_fft.cc:477] Unable to register cuFFT factory: Attempting to register factory for plugin cuFFT when one has already been registered\n",
      "WARNING: All log messages before absl::InitializeLog() is called are written to STDERR\n",
      "E0000 00:00:1754450619.431608      19 cuda_dnn.cc:8310] Unable to register cuDNN factory: Attempting to register factory for plugin cuDNN when one has already been registered\n",
      "E0000 00:00:1754450619.494440      19 cuda_blas.cc:1418] Unable to register cuBLAS factory: Attempting to register factory for plugin cuBLAS when one has already been registered\n",
      "Some weights of XLMRobertaModel were not initialized from the model checkpoint at /kaggle/input/xlm-roberta-base-offline/xlm_roberta_base_offline and are newly initialized: ['pooler.dense.bias', 'pooler.dense.weight']\n",
      "You should probably TRAIN this model on a down-stream task to be able to use it for predictions and inference.\n",
      "Training Epoch 1: 100%|██████████| 1015/1015 [06:29<00:00,  2.61it/s]\n"
     ]
    },
    {
     "name": "stdout",
     "output_type": "stream",
     "text": [
      "Epoch 1 Loss: 0.6855\n"
     ]
    },
    {
     "name": "stderr",
     "output_type": "stream",
     "text": [
      "Validating Epoch 1: 100%|██████████| 51/51 [00:05<00:00, 10.16it/s]\n"
     ]
    },
    {
     "name": "stdout",
     "output_type": "stream",
     "text": [
      "              precision    recall  f1-score   support\n",
      "\n",
      "         0.0      0.925     0.430     0.587       200\n",
      "         1.0      0.636     0.966     0.767       206\n",
      "\n",
      "    accuracy                          0.702       406\n",
      "   macro avg      0.780     0.698     0.677       406\n",
      "weighted avg      0.778     0.702     0.678       406\n",
      "\n",
      "AUC Score: 0.7641\n",
      "  -> New best Val AUC for Fold 1: 0.7641\n"
     ]
    },
    {
     "name": "stderr",
     "output_type": "stream",
     "text": [
      "Training Epoch 2: 100%|██████████| 1015/1015 [06:28<00:00,  2.61it/s]\n"
     ]
    },
    {
     "name": "stdout",
     "output_type": "stream",
     "text": [
      "Epoch 2 Loss: 0.6008\n"
     ]
    },
    {
     "name": "stderr",
     "output_type": "stream",
     "text": [
      "Validating Epoch 2: 100%|██████████| 51/51 [00:05<00:00, 10.17it/s]\n"
     ]
    },
    {
     "name": "stdout",
     "output_type": "stream",
     "text": [
      "              precision    recall  f1-score   support\n",
      "\n",
      "         0.0      0.846     0.685     0.757       200\n",
      "         1.0      0.742     0.879     0.804       206\n",
      "\n",
      "    accuracy                          0.783       406\n",
      "   macro avg      0.794     0.782     0.781       406\n",
      "weighted avg      0.793     0.783     0.781       406\n",
      "\n",
      "AUC Score: 0.8498\n",
      "  -> New best Val AUC for Fold 1: 0.8498\n"
     ]
    },
    {
     "name": "stderr",
     "output_type": "stream",
     "text": [
      "Training Epoch 3: 100%|██████████| 1015/1015 [06:28<00:00,  2.61it/s]\n"
     ]
    },
    {
     "name": "stdout",
     "output_type": "stream",
     "text": [
      "Epoch 3 Loss: 0.4822\n"
     ]
    },
    {
     "name": "stderr",
     "output_type": "stream",
     "text": [
      "Validating Epoch 3: 100%|██████████| 51/51 [00:05<00:00, 10.12it/s]\n"
     ]
    },
    {
     "name": "stdout",
     "output_type": "stream",
     "text": [
      "              precision    recall  f1-score   support\n",
      "\n",
      "         0.0      0.890     0.685     0.774       200\n",
      "         1.0      0.750     0.917     0.825       206\n",
      "\n",
      "    accuracy                          0.803       406\n",
      "   macro avg      0.820     0.801     0.800       406\n",
      "weighted avg      0.819     0.803     0.800       406\n",
      "\n",
      "AUC Score: 0.8746\n",
      "  -> New best Val AUC for Fold 1: 0.8746\n"
     ]
    },
    {
     "name": "stderr",
     "output_type": "stream",
     "text": [
      "Training Epoch 4: 100%|██████████| 1015/1015 [06:28<00:00,  2.61it/s]\n"
     ]
    },
    {
     "name": "stdout",
     "output_type": "stream",
     "text": [
      "Epoch 4 Loss: 0.3908\n"
     ]
    },
    {
     "name": "stderr",
     "output_type": "stream",
     "text": [
      "Validating Epoch 4: 100%|██████████| 51/51 [00:05<00:00, 10.20it/s]\n"
     ]
    },
    {
     "name": "stdout",
     "output_type": "stream",
     "text": [
      "              precision    recall  f1-score   support\n",
      "\n",
      "         0.0      0.870     0.705     0.779       200\n",
      "         1.0      0.758     0.898     0.822       206\n",
      "\n",
      "    accuracy                          0.803       406\n",
      "   macro avg      0.814     0.802     0.801       406\n",
      "weighted avg      0.813     0.803     0.801       406\n",
      "\n",
      "AUC Score: 0.8777\n",
      "  -> New best Val AUC for Fold 1: 0.8777\n"
     ]
    },
    {
     "name": "stderr",
     "output_type": "stream",
     "text": [
      "Training Epoch 5: 100%|██████████| 1015/1015 [06:28<00:00,  2.61it/s]\n"
     ]
    },
    {
     "name": "stdout",
     "output_type": "stream",
     "text": [
      "Epoch 5 Loss: 0.3144\n"
     ]
    },
    {
     "name": "stderr",
     "output_type": "stream",
     "text": [
      "Validating Epoch 5: 100%|██████████| 51/51 [00:05<00:00, 10.11it/s]\n"
     ]
    },
    {
     "name": "stdout",
     "output_type": "stream",
     "text": [
      "              precision    recall  f1-score   support\n",
      "\n",
      "         0.0      0.867     0.715     0.784       200\n",
      "         1.0      0.763     0.893     0.823       206\n",
      "\n",
      "    accuracy                          0.805       406\n",
      "   macro avg      0.815     0.804     0.803       406\n",
      "weighted avg      0.814     0.805     0.804       406\n",
      "\n",
      "AUC Score: 0.8745\n"
     ]
    },
    {
     "name": "stderr",
     "output_type": "stream",
     "text": [
      "Training Epoch 6: 100%|██████████| 1015/1015 [06:28<00:00,  2.61it/s]\n"
     ]
    },
    {
     "name": "stdout",
     "output_type": "stream",
     "text": [
      "Epoch 6 Loss: 0.2670\n"
     ]
    },
    {
     "name": "stderr",
     "output_type": "stream",
     "text": [
      "Validating Epoch 6: 100%|██████████| 51/51 [00:04<00:00, 10.20it/s]\n"
     ]
    },
    {
     "name": "stdout",
     "output_type": "stream",
     "text": [
      "              precision    recall  f1-score   support\n",
      "\n",
      "         0.0      0.877     0.715     0.788       200\n",
      "         1.0      0.765     0.903     0.829       206\n",
      "\n",
      "    accuracy                          0.810       406\n",
      "   macro avg      0.821     0.809     0.808       406\n",
      "weighted avg      0.821     0.810     0.808       406\n",
      "\n",
      "AUC Score: 0.8629\n"
     ]
    },
    {
     "name": "stderr",
     "output_type": "stream",
     "text": [
      "Training Epoch 7: 100%|██████████| 1015/1015 [06:28<00:00,  2.61it/s]\n"
     ]
    },
    {
     "name": "stdout",
     "output_type": "stream",
     "text": [
      "Epoch 7 Loss: 0.2372\n"
     ]
    },
    {
     "name": "stderr",
     "output_type": "stream",
     "text": [
      "Validating Epoch 7: 100%|██████████| 51/51 [00:05<00:00, 10.20it/s]\n"
     ]
    },
    {
     "name": "stdout",
     "output_type": "stream",
     "text": [
      "              precision    recall  f1-score   support\n",
      "\n",
      "         0.0      0.847     0.750     0.796       200\n",
      "         1.0      0.782     0.869     0.823       206\n",
      "\n",
      "    accuracy                          0.810       406\n",
      "   macro avg      0.815     0.809     0.809       406\n",
      "weighted avg      0.814     0.810     0.810       406\n",
      "\n",
      "AUC Score: 0.8626\n"
     ]
    },
    {
     "name": "stderr",
     "output_type": "stream",
     "text": [
      "Training Epoch 8: 100%|██████████| 1015/1015 [06:28<00:00,  2.61it/s]\n"
     ]
    },
    {
     "name": "stdout",
     "output_type": "stream",
     "text": [
      "Epoch 8 Loss: 0.2333\n"
     ]
    },
    {
     "name": "stderr",
     "output_type": "stream",
     "text": [
      "Validating Epoch 8: 100%|██████████| 51/51 [00:04<00:00, 10.20it/s]\n"
     ]
    },
    {
     "name": "stdout",
     "output_type": "stream",
     "text": [
      "              precision    recall  f1-score   support\n",
      "\n",
      "         0.0      0.847     0.750     0.796       200\n",
      "         1.0      0.782     0.869     0.823       206\n",
      "\n",
      "    accuracy                          0.810       406\n",
      "   macro avg      0.815     0.809     0.809       406\n",
      "weighted avg      0.814     0.810     0.810       406\n",
      "\n",
      "AUC Score: 0.8587\n",
      "Fold 1 Best Val AUC: 0.8777\n"
     ]
    },
    {
     "name": "stderr",
     "output_type": "stream",
     "text": [
      "Fold 1 OOF Prediction: 100%|██████████| 51/51 [00:04<00:00, 10.22it/s]\n"
     ]
    },
    {
     "name": "stdout",
     "output_type": "stream",
     "text": [
      "Fold 1 OOF AUC Check: 0.8587 (This is the true validation AUC for this fold)\n"
     ]
    },
    {
     "name": "stderr",
     "output_type": "stream",
     "text": [
      "Fold 1 Test Prediction: 100%|██████████| 2/2 [00:00<00:00, 14.49it/s]\n"
     ]
    },
    {
     "name": "stdout",
     "output_type": "stream",
     "text": [
      "\n",
      "----- Fold 2 -----\n"
     ]
    },
    {
     "name": "stderr",
     "output_type": "stream",
     "text": [
      "Some weights of XLMRobertaModel were not initialized from the model checkpoint at /kaggle/input/xlm-roberta-base-offline/xlm_roberta_base_offline and are newly initialized: ['pooler.dense.bias', 'pooler.dense.weight']\n",
      "You should probably TRAIN this model on a down-stream task to be able to use it for predictions and inference.\n",
      "Training Epoch 1: 100%|██████████| 1015/1015 [06:28<00:00,  2.61it/s]\n"
     ]
    },
    {
     "name": "stdout",
     "output_type": "stream",
     "text": [
      "Epoch 1 Loss: 0.6820\n"
     ]
    },
    {
     "name": "stderr",
     "output_type": "stream",
     "text": [
      "Validating Epoch 1: 100%|██████████| 51/51 [00:04<00:00, 10.20it/s]\n"
     ]
    },
    {
     "name": "stdout",
     "output_type": "stream",
     "text": [
      "              precision    recall  f1-score   support\n",
      "\n",
      "         0.0      0.747     0.545     0.630       200\n",
      "         1.0      0.650     0.820     0.725       206\n",
      "\n",
      "    accuracy                          0.685       406\n",
      "   macro avg      0.698     0.683     0.678       406\n",
      "weighted avg      0.698     0.685     0.678       406\n",
      "\n",
      "AUC Score: 0.7244\n",
      "  -> New best Val AUC for Fold 2: 0.7244\n"
     ]
    },
    {
     "name": "stderr",
     "output_type": "stream",
     "text": [
      "Training Epoch 2: 100%|██████████| 1015/1015 [06:28<00:00,  2.61it/s]\n"
     ]
    },
    {
     "name": "stdout",
     "output_type": "stream",
     "text": [
      "Epoch 2 Loss: 0.5700\n"
     ]
    },
    {
     "name": "stderr",
     "output_type": "stream",
     "text": [
      "Validating Epoch 2: 100%|██████████| 51/51 [00:04<00:00, 10.29it/s]\n"
     ]
    },
    {
     "name": "stdout",
     "output_type": "stream",
     "text": [
      "              precision    recall  f1-score   support\n",
      "\n",
      "         0.0      0.819     0.725     0.769       200\n",
      "         1.0      0.760     0.845     0.800       206\n",
      "\n",
      "    accuracy                          0.786       406\n",
      "   macro avg      0.790     0.785     0.785       406\n",
      "weighted avg      0.789     0.786     0.785       406\n",
      "\n",
      "AUC Score: 0.8476\n",
      "  -> New best Val AUC for Fold 2: 0.8476\n"
     ]
    },
    {
     "name": "stderr",
     "output_type": "stream",
     "text": [
      "Training Epoch 3: 100%|██████████| 1015/1015 [06:27<00:00,  2.62it/s]\n"
     ]
    },
    {
     "name": "stdout",
     "output_type": "stream",
     "text": [
      "Epoch 3 Loss: 0.3992\n"
     ]
    },
    {
     "name": "stderr",
     "output_type": "stream",
     "text": [
      "Validating Epoch 3: 100%|██████████| 51/51 [00:04<00:00, 10.25it/s]\n"
     ]
    },
    {
     "name": "stdout",
     "output_type": "stream",
     "text": [
      "              precision    recall  f1-score   support\n",
      "\n",
      "         0.0      0.856     0.745     0.797       200\n",
      "         1.0      0.780     0.879     0.826       206\n",
      "\n",
      "    accuracy                          0.813       406\n",
      "   macro avg      0.818     0.812     0.812       406\n",
      "weighted avg      0.818     0.813     0.812       406\n",
      "\n",
      "AUC Score: 0.8638\n",
      "  -> New best Val AUC for Fold 2: 0.8638\n"
     ]
    },
    {
     "name": "stderr",
     "output_type": "stream",
     "text": [
      "Training Epoch 4: 100%|██████████| 1015/1015 [06:28<00:00,  2.62it/s]\n"
     ]
    },
    {
     "name": "stdout",
     "output_type": "stream",
     "text": [
      "Epoch 4 Loss: 0.2739\n"
     ]
    },
    {
     "name": "stderr",
     "output_type": "stream",
     "text": [
      "Validating Epoch 4: 100%|██████████| 51/51 [00:05<00:00, 10.19it/s]\n"
     ]
    },
    {
     "name": "stdout",
     "output_type": "stream",
     "text": [
      "              precision    recall  f1-score   support\n",
      "\n",
      "         0.0      0.870     0.735     0.797       200\n",
      "         1.0      0.776     0.893     0.831       206\n",
      "\n",
      "    accuracy                          0.815       406\n",
      "   macro avg      0.823     0.814     0.814       406\n",
      "weighted avg      0.822     0.815     0.814       406\n",
      "\n",
      "AUC Score: 0.8696\n",
      "  -> New best Val AUC for Fold 2: 0.8696\n"
     ]
    },
    {
     "name": "stderr",
     "output_type": "stream",
     "text": [
      "Training Epoch 5: 100%|██████████| 1015/1015 [06:28<00:00,  2.61it/s]\n"
     ]
    },
    {
     "name": "stdout",
     "output_type": "stream",
     "text": [
      "Epoch 5 Loss: 0.2190\n"
     ]
    },
    {
     "name": "stderr",
     "output_type": "stream",
     "text": [
      "Validating Epoch 5: 100%|██████████| 51/51 [00:04<00:00, 10.26it/s]\n"
     ]
    },
    {
     "name": "stdout",
     "output_type": "stream",
     "text": [
      "              precision    recall  f1-score   support\n",
      "\n",
      "         0.0      0.862     0.750     0.802       200\n",
      "         1.0      0.784     0.883     0.831       206\n",
      "\n",
      "    accuracy                          0.818       406\n",
      "   macro avg      0.823     0.817     0.817       406\n",
      "weighted avg      0.823     0.818     0.817       406\n",
      "\n",
      "AUC Score: 0.8652\n"
     ]
    },
    {
     "name": "stderr",
     "output_type": "stream",
     "text": [
      "Training Epoch 6: 100%|██████████| 1015/1015 [06:27<00:00,  2.62it/s]\n"
     ]
    },
    {
     "name": "stdout",
     "output_type": "stream",
     "text": [
      "Epoch 6 Loss: 0.2151\n"
     ]
    },
    {
     "name": "stderr",
     "output_type": "stream",
     "text": [
      "Validating Epoch 6: 100%|██████████| 51/51 [00:04<00:00, 10.25it/s]\n"
     ]
    },
    {
     "name": "stdout",
     "output_type": "stream",
     "text": [
      "              precision    recall  f1-score   support\n",
      "\n",
      "         0.0      0.880     0.730     0.798       200\n",
      "         1.0      0.775     0.903     0.834       206\n",
      "\n",
      "    accuracy                          0.818       406\n",
      "   macro avg      0.827     0.816     0.816       406\n",
      "weighted avg      0.826     0.818     0.816       406\n",
      "\n",
      "AUC Score: 0.8677\n"
     ]
    },
    {
     "name": "stderr",
     "output_type": "stream",
     "text": [
      "Training Epoch 7: 100%|██████████| 1015/1015 [06:27<00:00,  2.62it/s]\n"
     ]
    },
    {
     "name": "stdout",
     "output_type": "stream",
     "text": [
      "Epoch 7 Loss: 0.2122\n"
     ]
    },
    {
     "name": "stderr",
     "output_type": "stream",
     "text": [
      "Validating Epoch 7: 100%|██████████| 51/51 [00:04<00:00, 10.26it/s]\n"
     ]
    },
    {
     "name": "stdout",
     "output_type": "stream",
     "text": [
      "              precision    recall  f1-score   support\n",
      "\n",
      "         0.0      0.869     0.765     0.814       200\n",
      "         1.0      0.796     0.888     0.839       206\n",
      "\n",
      "    accuracy                          0.828       406\n",
      "   macro avg      0.832     0.827     0.827       406\n",
      "weighted avg      0.832     0.828     0.827       406\n",
      "\n",
      "AUC Score: 0.8759\n",
      "  -> New best Val AUC for Fold 2: 0.8759\n"
     ]
    },
    {
     "name": "stderr",
     "output_type": "stream",
     "text": [
      "Training Epoch 8: 100%|██████████| 1015/1015 [06:28<00:00,  2.61it/s]\n"
     ]
    },
    {
     "name": "stdout",
     "output_type": "stream",
     "text": [
      "Epoch 8 Loss: 0.2071\n"
     ]
    },
    {
     "name": "stderr",
     "output_type": "stream",
     "text": [
      "Validating Epoch 8: 100%|██████████| 51/51 [00:05<00:00, 10.17it/s]\n"
     ]
    },
    {
     "name": "stdout",
     "output_type": "stream",
     "text": [
      "              precision    recall  f1-score   support\n",
      "\n",
      "         0.0      0.873     0.755     0.810       200\n",
      "         1.0      0.790     0.893     0.838       206\n",
      "\n",
      "    accuracy                          0.825       406\n",
      "   macro avg      0.831     0.824     0.824       406\n",
      "weighted avg      0.831     0.825     0.824       406\n",
      "\n",
      "AUC Score: 0.8787\n",
      "  -> New best Val AUC for Fold 2: 0.8787\n",
      "Fold 2 Best Val AUC: 0.8787\n"
     ]
    },
    {
     "name": "stderr",
     "output_type": "stream",
     "text": [
      "Fold 2 OOF Prediction: 100%|██████████| 51/51 [00:04<00:00, 10.21it/s]\n"
     ]
    },
    {
     "name": "stdout",
     "output_type": "stream",
     "text": [
      "Fold 2 OOF AUC Check: 0.8787 (This is the true validation AUC for this fold)\n"
     ]
    },
    {
     "name": "stderr",
     "output_type": "stream",
     "text": [
      "Fold 2 Test Prediction: 100%|██████████| 2/2 [00:00<00:00, 14.57it/s]\n"
     ]
    },
    {
     "name": "stdout",
     "output_type": "stream",
     "text": [
      "\n",
      "----- Fold 3 -----\n"
     ]
    },
    {
     "name": "stderr",
     "output_type": "stream",
     "text": [
      "Some weights of XLMRobertaModel were not initialized from the model checkpoint at /kaggle/input/xlm-roberta-base-offline/xlm_roberta_base_offline and are newly initialized: ['pooler.dense.bias', 'pooler.dense.weight']\n",
      "You should probably TRAIN this model on a down-stream task to be able to use it for predictions and inference.\n",
      "Training Epoch 1: 100%|██████████| 1015/1015 [06:28<00:00,  2.61it/s]\n"
     ]
    },
    {
     "name": "stdout",
     "output_type": "stream",
     "text": [
      "Epoch 1 Loss: 0.6866\n"
     ]
    },
    {
     "name": "stderr",
     "output_type": "stream",
     "text": [
      "Validating Epoch 1: 100%|██████████| 51/51 [00:04<00:00, 10.21it/s]\n"
     ]
    },
    {
     "name": "stdout",
     "output_type": "stream",
     "text": [
      "              precision    recall  f1-score   support\n",
      "\n",
      "         0.0      0.775     0.430     0.553       200\n",
      "         1.0      0.614     0.879     0.723       206\n",
      "\n",
      "    accuracy                          0.658       406\n",
      "   macro avg      0.694     0.654     0.638       406\n",
      "weighted avg      0.693     0.658     0.639       406\n",
      "\n",
      "AUC Score: 0.7661\n",
      "  -> New best Val AUC for Fold 3: 0.7661\n"
     ]
    },
    {
     "name": "stderr",
     "output_type": "stream",
     "text": [
      "Training Epoch 2: 100%|██████████| 1015/1015 [06:28<00:00,  2.61it/s]\n"
     ]
    },
    {
     "name": "stdout",
     "output_type": "stream",
     "text": [
      "Epoch 2 Loss: 0.6046\n"
     ]
    },
    {
     "name": "stderr",
     "output_type": "stream",
     "text": [
      "Validating Epoch 2: 100%|██████████| 51/51 [00:05<00:00, 10.19it/s]\n"
     ]
    },
    {
     "name": "stdout",
     "output_type": "stream",
     "text": [
      "              precision    recall  f1-score   support\n",
      "\n",
      "         0.0      0.840     0.605     0.703       200\n",
      "         1.0      0.698     0.888     0.782       206\n",
      "\n",
      "    accuracy                          0.749       406\n",
      "   macro avg      0.769     0.747     0.743       406\n",
      "weighted avg      0.768     0.749     0.743       406\n",
      "\n",
      "AUC Score: 0.8613\n",
      "  -> New best Val AUC for Fold 3: 0.8613\n"
     ]
    },
    {
     "name": "stderr",
     "output_type": "stream",
     "text": [
      "Training Epoch 3: 100%|██████████| 1015/1015 [06:28<00:00,  2.61it/s]\n"
     ]
    },
    {
     "name": "stdout",
     "output_type": "stream",
     "text": [
      "Epoch 3 Loss: 0.4655\n"
     ]
    },
    {
     "name": "stderr",
     "output_type": "stream",
     "text": [
      "Validating Epoch 3: 100%|██████████| 51/51 [00:05<00:00, 10.13it/s]\n"
     ]
    },
    {
     "name": "stdout",
     "output_type": "stream",
     "text": [
      "              precision    recall  f1-score   support\n",
      "\n",
      "         0.0      0.881     0.665     0.758       200\n",
      "         1.0      0.737     0.913     0.816       206\n",
      "\n",
      "    accuracy                          0.791       406\n",
      "   macro avg      0.809     0.789     0.787       406\n",
      "weighted avg      0.808     0.791     0.787       406\n",
      "\n",
      "AUC Score: 0.8657\n",
      "  -> New best Val AUC for Fold 3: 0.8657\n"
     ]
    },
    {
     "name": "stderr",
     "output_type": "stream",
     "text": [
      "Training Epoch 4: 100%|██████████| 1015/1015 [06:28<00:00,  2.61it/s]\n"
     ]
    },
    {
     "name": "stdout",
     "output_type": "stream",
     "text": [
      "Epoch 4 Loss: 0.3457\n"
     ]
    },
    {
     "name": "stderr",
     "output_type": "stream",
     "text": [
      "Validating Epoch 4: 100%|██████████| 51/51 [00:05<00:00, 10.19it/s]\n"
     ]
    },
    {
     "name": "stdout",
     "output_type": "stream",
     "text": [
      "              precision    recall  f1-score   support\n",
      "\n",
      "         0.0      0.842     0.825     0.833       200\n",
      "         1.0      0.833     0.850     0.841       206\n",
      "\n",
      "    accuracy                          0.837       406\n",
      "   macro avg      0.838     0.837     0.837       406\n",
      "weighted avg      0.838     0.837     0.837       406\n",
      "\n",
      "AUC Score: 0.8642\n"
     ]
    },
    {
     "name": "stderr",
     "output_type": "stream",
     "text": [
      "Training Epoch 5: 100%|██████████| 1015/1015 [06:28<00:00,  2.61it/s]\n"
     ]
    },
    {
     "name": "stdout",
     "output_type": "stream",
     "text": [
      "Epoch 5 Loss: 0.2732\n"
     ]
    },
    {
     "name": "stderr",
     "output_type": "stream",
     "text": [
      "Validating Epoch 5: 100%|██████████| 51/51 [00:04<00:00, 10.21it/s]\n"
     ]
    },
    {
     "name": "stdout",
     "output_type": "stream",
     "text": [
      "              precision    recall  f1-score   support\n",
      "\n",
      "         0.0      0.876     0.775     0.822       200\n",
      "         1.0      0.803     0.893     0.846       206\n",
      "\n",
      "    accuracy                          0.835       406\n",
      "   macro avg      0.840     0.834     0.834       406\n",
      "weighted avg      0.839     0.835     0.834       406\n",
      "\n",
      "AUC Score: 0.8651\n"
     ]
    },
    {
     "name": "stderr",
     "output_type": "stream",
     "text": [
      "Training Epoch 6: 100%|██████████| 1015/1015 [06:28<00:00,  2.61it/s]\n"
     ]
    },
    {
     "name": "stdout",
     "output_type": "stream",
     "text": [
      "Epoch 6 Loss: 0.2302\n"
     ]
    },
    {
     "name": "stderr",
     "output_type": "stream",
     "text": [
      "Validating Epoch 6: 100%|██████████| 51/51 [00:04<00:00, 10.24it/s]\n"
     ]
    },
    {
     "name": "stdout",
     "output_type": "stream",
     "text": [
      "              precision    recall  f1-score   support\n",
      "\n",
      "         0.0      0.861     0.835     0.848       200\n",
      "         1.0      0.844     0.869     0.856       206\n",
      "\n",
      "    accuracy                          0.852       406\n",
      "   macro avg      0.853     0.852     0.852       406\n",
      "weighted avg      0.852     0.852     0.852       406\n",
      "\n",
      "AUC Score: 0.8662\n",
      "  -> New best Val AUC for Fold 3: 0.8662\n"
     ]
    },
    {
     "name": "stderr",
     "output_type": "stream",
     "text": [
      "Training Epoch 7: 100%|██████████| 1015/1015 [06:28<00:00,  2.61it/s]\n"
     ]
    },
    {
     "name": "stdout",
     "output_type": "stream",
     "text": [
      "Epoch 7 Loss: 0.2181\n"
     ]
    },
    {
     "name": "stderr",
     "output_type": "stream",
     "text": [
      "Validating Epoch 7: 100%|██████████| 51/51 [00:04<00:00, 10.20it/s]\n"
     ]
    },
    {
     "name": "stdout",
     "output_type": "stream",
     "text": [
      "              precision    recall  f1-score   support\n",
      "\n",
      "         0.0      0.859     0.820     0.839       200\n",
      "         1.0      0.833     0.869     0.850       206\n",
      "\n",
      "    accuracy                          0.845       406\n",
      "   macro avg      0.846     0.844     0.845       406\n",
      "weighted avg      0.845     0.845     0.845       406\n",
      "\n",
      "AUC Score: 0.8827\n",
      "  -> New best Val AUC for Fold 3: 0.8827\n"
     ]
    },
    {
     "name": "stderr",
     "output_type": "stream",
     "text": [
      "Training Epoch 8: 100%|██████████| 1015/1015 [06:28<00:00,  2.61it/s]\n"
     ]
    },
    {
     "name": "stdout",
     "output_type": "stream",
     "text": [
      "Epoch 8 Loss: 0.2090\n"
     ]
    },
    {
     "name": "stderr",
     "output_type": "stream",
     "text": [
      "Validating Epoch 8: 100%|██████████| 51/51 [00:04<00:00, 10.25it/s]\n"
     ]
    },
    {
     "name": "stdout",
     "output_type": "stream",
     "text": [
      "              precision    recall  f1-score   support\n",
      "\n",
      "         0.0      0.866     0.805     0.834       200\n",
      "         1.0      0.823     0.879     0.850       206\n",
      "\n",
      "    accuracy                          0.842       406\n",
      "   macro avg      0.844     0.842     0.842       406\n",
      "weighted avg      0.844     0.842     0.842       406\n",
      "\n",
      "AUC Score: 0.8772\n",
      "Fold 3 Best Val AUC: 0.8827\n"
     ]
    },
    {
     "name": "stderr",
     "output_type": "stream",
     "text": [
      "Fold 3 OOF Prediction: 100%|██████████| 51/51 [00:04<00:00, 10.23it/s]\n"
     ]
    },
    {
     "name": "stdout",
     "output_type": "stream",
     "text": [
      "Fold 3 OOF AUC Check: 0.8772 (This is the true validation AUC for this fold)\n"
     ]
    },
    {
     "name": "stderr",
     "output_type": "stream",
     "text": [
      "Fold 3 Test Prediction: 100%|██████████| 2/2 [00:00<00:00, 14.66it/s]\n"
     ]
    },
    {
     "name": "stdout",
     "output_type": "stream",
     "text": [
      "\n",
      "----- Fold 4 -----\n"
     ]
    },
    {
     "name": "stderr",
     "output_type": "stream",
     "text": [
      "Some weights of XLMRobertaModel were not initialized from the model checkpoint at /kaggle/input/xlm-roberta-base-offline/xlm_roberta_base_offline and are newly initialized: ['pooler.dense.bias', 'pooler.dense.weight']\n",
      "You should probably TRAIN this model on a down-stream task to be able to use it for predictions and inference.\n",
      "Training Epoch 1: 100%|██████████| 1015/1015 [06:28<00:00,  2.61it/s]\n"
     ]
    },
    {
     "name": "stdout",
     "output_type": "stream",
     "text": [
      "Epoch 1 Loss: 0.6881\n"
     ]
    },
    {
     "name": "stderr",
     "output_type": "stream",
     "text": [
      "Validating Epoch 1: 100%|██████████| 51/51 [00:05<00:00, 10.14it/s]\n"
     ]
    },
    {
     "name": "stdout",
     "output_type": "stream",
     "text": [
      "              precision    recall  f1-score   support\n",
      "\n",
      "         0.0      0.667     0.593     0.628       199\n",
      "         1.0      0.646     0.715     0.679       207\n",
      "\n",
      "    accuracy                          0.655       406\n",
      "   macro avg      0.656     0.654     0.653       406\n",
      "weighted avg      0.656     0.655     0.654       406\n",
      "\n",
      "AUC Score: 0.7517\n",
      "  -> New best Val AUC for Fold 4: 0.7517\n"
     ]
    },
    {
     "name": "stderr",
     "output_type": "stream",
     "text": [
      "Training Epoch 2: 100%|██████████| 1015/1015 [06:28<00:00,  2.61it/s]\n"
     ]
    },
    {
     "name": "stdout",
     "output_type": "stream",
     "text": [
      "Epoch 2 Loss: 0.5442\n"
     ]
    },
    {
     "name": "stderr",
     "output_type": "stream",
     "text": [
      "Validating Epoch 2: 100%|██████████| 51/51 [00:04<00:00, 10.21it/s]\n"
     ]
    },
    {
     "name": "stdout",
     "output_type": "stream",
     "text": [
      "              precision    recall  f1-score   support\n",
      "\n",
      "         0.0      0.787     0.744     0.765       199\n",
      "         1.0      0.766     0.807     0.786       207\n",
      "\n",
      "    accuracy                          0.776       406\n",
      "   macro avg      0.777     0.775     0.775       406\n",
      "weighted avg      0.776     0.776     0.776       406\n",
      "\n",
      "AUC Score: 0.8731\n",
      "  -> New best Val AUC for Fold 4: 0.8731\n"
     ]
    },
    {
     "name": "stderr",
     "output_type": "stream",
     "text": [
      "Training Epoch 3: 100%|██████████| 1015/1015 [06:28<00:00,  2.61it/s]\n"
     ]
    },
    {
     "name": "stdout",
     "output_type": "stream",
     "text": [
      "Epoch 3 Loss: 0.3343\n"
     ]
    },
    {
     "name": "stderr",
     "output_type": "stream",
     "text": [
      "Validating Epoch 3: 100%|██████████| 51/51 [00:05<00:00, 10.13it/s]\n"
     ]
    },
    {
     "name": "stdout",
     "output_type": "stream",
     "text": [
      "              precision    recall  f1-score   support\n",
      "\n",
      "         0.0      0.832     0.774     0.802       199\n",
      "         1.0      0.796     0.850     0.822       207\n",
      "\n",
      "    accuracy                          0.813       406\n",
      "   macro avg      0.814     0.812     0.812       406\n",
      "weighted avg      0.814     0.813     0.812       406\n",
      "\n",
      "AUC Score: 0.8810\n",
      "  -> New best Val AUC for Fold 4: 0.8810\n"
     ]
    },
    {
     "name": "stderr",
     "output_type": "stream",
     "text": [
      "Training Epoch 4: 100%|██████████| 1015/1015 [06:28<00:00,  2.61it/s]\n"
     ]
    },
    {
     "name": "stdout",
     "output_type": "stream",
     "text": [
      "Epoch 4 Loss: 0.2563\n"
     ]
    },
    {
     "name": "stderr",
     "output_type": "stream",
     "text": [
      "Validating Epoch 4: 100%|██████████| 51/51 [00:04<00:00, 10.24it/s]\n"
     ]
    },
    {
     "name": "stdout",
     "output_type": "stream",
     "text": [
      "              precision    recall  f1-score   support\n",
      "\n",
      "         0.0      0.832     0.774     0.802       199\n",
      "         1.0      0.796     0.850     0.822       207\n",
      "\n",
      "    accuracy                          0.813       406\n",
      "   macro avg      0.814     0.812     0.812       406\n",
      "weighted avg      0.814     0.813     0.812       406\n",
      "\n",
      "AUC Score: 0.8790\n"
     ]
    },
    {
     "name": "stderr",
     "output_type": "stream",
     "text": [
      "Training Epoch 5: 100%|██████████| 1015/1015 [06:28<00:00,  2.61it/s]\n"
     ]
    },
    {
     "name": "stdout",
     "output_type": "stream",
     "text": [
      "Epoch 5 Loss: 0.2410\n"
     ]
    },
    {
     "name": "stderr",
     "output_type": "stream",
     "text": [
      "Validating Epoch 5: 100%|██████████| 51/51 [00:04<00:00, 10.22it/s]\n"
     ]
    },
    {
     "name": "stdout",
     "output_type": "stream",
     "text": [
      "              precision    recall  f1-score   support\n",
      "\n",
      "         0.0      0.833     0.804     0.818       199\n",
      "         1.0      0.818     0.845     0.831       207\n",
      "\n",
      "    accuracy                          0.825       406\n",
      "   macro avg      0.826     0.825     0.825       406\n",
      "weighted avg      0.825     0.825     0.825       406\n",
      "\n",
      "AUC Score: 0.8910\n",
      "  -> New best Val AUC for Fold 4: 0.8910\n"
     ]
    },
    {
     "name": "stderr",
     "output_type": "stream",
     "text": [
      "Training Epoch 6: 100%|██████████| 1015/1015 [06:28<00:00,  2.61it/s]\n"
     ]
    },
    {
     "name": "stdout",
     "output_type": "stream",
     "text": [
      "Epoch 6 Loss: 0.2292\n"
     ]
    },
    {
     "name": "stderr",
     "output_type": "stream",
     "text": [
      "Validating Epoch 6: 100%|██████████| 51/51 [00:05<00:00, 10.18it/s]\n"
     ]
    },
    {
     "name": "stdout",
     "output_type": "stream",
     "text": [
      "              precision    recall  f1-score   support\n",
      "\n",
      "         0.0      0.832     0.824     0.828       199\n",
      "         1.0      0.833     0.841     0.837       207\n",
      "\n",
      "    accuracy                          0.833       406\n",
      "   macro avg      0.833     0.832     0.832       406\n",
      "weighted avg      0.833     0.833     0.832       406\n",
      "\n",
      "AUC Score: 0.8949\n",
      "  -> New best Val AUC for Fold 4: 0.8949\n"
     ]
    },
    {
     "name": "stderr",
     "output_type": "stream",
     "text": [
      "Training Epoch 7: 100%|██████████| 1015/1015 [06:28<00:00,  2.61it/s]\n"
     ]
    },
    {
     "name": "stdout",
     "output_type": "stream",
     "text": [
      "Epoch 7 Loss: 0.2195\n"
     ]
    },
    {
     "name": "stderr",
     "output_type": "stream",
     "text": [
      "Validating Epoch 7: 100%|██████████| 51/51 [00:05<00:00, 10.19it/s]\n"
     ]
    },
    {
     "name": "stdout",
     "output_type": "stream",
     "text": [
      "              precision    recall  f1-score   support\n",
      "\n",
      "         0.0      0.840     0.819     0.830       199\n",
      "         1.0      0.830     0.850     0.840       207\n",
      "\n",
      "    accuracy                          0.835       406\n",
      "   macro avg      0.835     0.835     0.835       406\n",
      "weighted avg      0.835     0.835     0.835       406\n",
      "\n",
      "AUC Score: 0.8964\n",
      "  -> New best Val AUC for Fold 4: 0.8964\n"
     ]
    },
    {
     "name": "stderr",
     "output_type": "stream",
     "text": [
      "Training Epoch 8: 100%|██████████| 1015/1015 [06:28<00:00,  2.61it/s]\n"
     ]
    },
    {
     "name": "stdout",
     "output_type": "stream",
     "text": [
      "Epoch 8 Loss: 0.2164\n"
     ]
    },
    {
     "name": "stderr",
     "output_type": "stream",
     "text": [
      "Validating Epoch 8: 100%|██████████| 51/51 [00:04<00:00, 10.23it/s]\n"
     ]
    },
    {
     "name": "stdout",
     "output_type": "stream",
     "text": [
      "              precision    recall  f1-score   support\n",
      "\n",
      "         0.0      0.836     0.819     0.827       199\n",
      "         1.0      0.829     0.845     0.837       207\n",
      "\n",
      "    accuracy                          0.833       406\n",
      "   macro avg      0.833     0.832     0.832       406\n",
      "weighted avg      0.833     0.833     0.832       406\n",
      "\n",
      "AUC Score: 0.8972\n",
      "  -> New best Val AUC for Fold 4: 0.8972\n",
      "Fold 4 Best Val AUC: 0.8972\n"
     ]
    },
    {
     "name": "stderr",
     "output_type": "stream",
     "text": [
      "Fold 4 OOF Prediction: 100%|██████████| 51/51 [00:04<00:00, 10.24it/s]\n"
     ]
    },
    {
     "name": "stdout",
     "output_type": "stream",
     "text": [
      "Fold 4 OOF AUC Check: 0.8972 (This is the true validation AUC for this fold)\n"
     ]
    },
    {
     "name": "stderr",
     "output_type": "stream",
     "text": [
      "Fold 4 Test Prediction: 100%|██████████| 2/2 [00:00<00:00, 14.62it/s]\n"
     ]
    },
    {
     "name": "stdout",
     "output_type": "stream",
     "text": [
      "\n",
      "----- Fold 5 -----\n"
     ]
    },
    {
     "name": "stderr",
     "output_type": "stream",
     "text": [
      "Some weights of XLMRobertaModel were not initialized from the model checkpoint at /kaggle/input/xlm-roberta-base-offline/xlm_roberta_base_offline and are newly initialized: ['pooler.dense.bias', 'pooler.dense.weight']\n",
      "You should probably TRAIN this model on a down-stream task to be able to use it for predictions and inference.\n",
      "Training Epoch 1: 100%|██████████| 1015/1015 [06:28<00:00,  2.61it/s]\n"
     ]
    },
    {
     "name": "stdout",
     "output_type": "stream",
     "text": [
      "Epoch 1 Loss: 0.6786\n"
     ]
    },
    {
     "name": "stderr",
     "output_type": "stream",
     "text": [
      "Validating Epoch 1: 100%|██████████| 51/51 [00:04<00:00, 10.26it/s]\n"
     ]
    },
    {
     "name": "stdout",
     "output_type": "stream",
     "text": [
      "              precision    recall  f1-score   support\n",
      "\n",
      "         0.0      0.724     0.422     0.533       199\n",
      "         1.0      0.602     0.845     0.703       206\n",
      "\n",
      "    accuracy                          0.637       405\n",
      "   macro avg      0.663     0.633     0.618       405\n",
      "weighted avg      0.662     0.637     0.620       405\n",
      "\n",
      "AUC Score: 0.6905\n",
      "  -> New best Val AUC for Fold 5: 0.6905\n"
     ]
    },
    {
     "name": "stderr",
     "output_type": "stream",
     "text": [
      "Training Epoch 2: 100%|██████████| 1015/1015 [06:28<00:00,  2.61it/s]\n"
     ]
    },
    {
     "name": "stdout",
     "output_type": "stream",
     "text": [
      "Epoch 2 Loss: 0.5977\n"
     ]
    },
    {
     "name": "stderr",
     "output_type": "stream",
     "text": [
      "Validating Epoch 2: 100%|██████████| 51/51 [00:04<00:00, 10.23it/s]\n"
     ]
    },
    {
     "name": "stdout",
     "output_type": "stream",
     "text": [
      "              precision    recall  f1-score   support\n",
      "\n",
      "         0.0      0.799     0.658     0.722       199\n",
      "         1.0      0.718     0.840     0.774       206\n",
      "\n",
      "    accuracy                          0.751       405\n",
      "   macro avg      0.758     0.749     0.748       405\n",
      "weighted avg      0.758     0.751     0.748       405\n",
      "\n",
      "AUC Score: 0.8243\n",
      "  -> New best Val AUC for Fold 5: 0.8243\n"
     ]
    },
    {
     "name": "stderr",
     "output_type": "stream",
     "text": [
      "Training Epoch 3: 100%|██████████| 1015/1015 [06:28<00:00,  2.61it/s]\n"
     ]
    },
    {
     "name": "stdout",
     "output_type": "stream",
     "text": [
      "Epoch 3 Loss: 0.4665\n"
     ]
    },
    {
     "name": "stderr",
     "output_type": "stream",
     "text": [
      "Validating Epoch 3: 100%|██████████| 51/51 [00:04<00:00, 10.24it/s]\n"
     ]
    },
    {
     "name": "stdout",
     "output_type": "stream",
     "text": [
      "              precision    recall  f1-score   support\n",
      "\n",
      "         0.0      0.857     0.663     0.748       199\n",
      "         1.0      0.733     0.893     0.805       206\n",
      "\n",
      "    accuracy                          0.780       405\n",
      "   macro avg      0.795     0.778     0.777       405\n",
      "weighted avg      0.794     0.780     0.777       405\n",
      "\n",
      "AUC Score: 0.8475\n",
      "  -> New best Val AUC for Fold 5: 0.8475\n"
     ]
    },
    {
     "name": "stderr",
     "output_type": "stream",
     "text": [
      "Training Epoch 4: 100%|██████████| 1015/1015 [06:28<00:00,  2.61it/s]\n"
     ]
    },
    {
     "name": "stdout",
     "output_type": "stream",
     "text": [
      "Epoch 4 Loss: 0.3603\n"
     ]
    },
    {
     "name": "stderr",
     "output_type": "stream",
     "text": [
      "Validating Epoch 4: 100%|██████████| 51/51 [00:04<00:00, 10.20it/s]\n"
     ]
    },
    {
     "name": "stdout",
     "output_type": "stream",
     "text": [
      "              precision    recall  f1-score   support\n",
      "\n",
      "         0.0      0.890     0.693     0.780       199\n",
      "         1.0      0.756     0.917     0.829       206\n",
      "\n",
      "    accuracy                          0.807       405\n",
      "   macro avg      0.823     0.805     0.804       405\n",
      "weighted avg      0.822     0.807     0.805       405\n",
      "\n",
      "AUC Score: 0.8485\n",
      "  -> New best Val AUC for Fold 5: 0.8485\n"
     ]
    },
    {
     "name": "stderr",
     "output_type": "stream",
     "text": [
      "Training Epoch 5: 100%|██████████| 1015/1015 [06:28<00:00,  2.61it/s]\n"
     ]
    },
    {
     "name": "stdout",
     "output_type": "stream",
     "text": [
      "Epoch 5 Loss: 0.2894\n"
     ]
    },
    {
     "name": "stderr",
     "output_type": "stream",
     "text": [
      "Validating Epoch 5: 100%|██████████| 51/51 [00:04<00:00, 10.23it/s]\n"
     ]
    },
    {
     "name": "stdout",
     "output_type": "stream",
     "text": [
      "              precision    recall  f1-score   support\n",
      "\n",
      "         0.0      0.871     0.744     0.802       199\n",
      "         1.0      0.783     0.893     0.834       206\n",
      "\n",
      "    accuracy                          0.820       405\n",
      "   macro avg      0.827     0.818     0.818       405\n",
      "weighted avg      0.826     0.820     0.819       405\n",
      "\n",
      "AUC Score: 0.8551\n",
      "  -> New best Val AUC for Fold 5: 0.8551\n"
     ]
    },
    {
     "name": "stderr",
     "output_type": "stream",
     "text": [
      "Training Epoch 6: 100%|██████████| 1015/1015 [06:28<00:00,  2.61it/s]\n"
     ]
    },
    {
     "name": "stdout",
     "output_type": "stream",
     "text": [
      "Epoch 6 Loss: 0.2401\n"
     ]
    },
    {
     "name": "stderr",
     "output_type": "stream",
     "text": [
      "Validating Epoch 6: 100%|██████████| 51/51 [00:04<00:00, 10.27it/s]\n"
     ]
    },
    {
     "name": "stdout",
     "output_type": "stream",
     "text": [
      "              precision    recall  f1-score   support\n",
      "\n",
      "         0.0      0.861     0.749     0.801       199\n",
      "         1.0      0.784     0.883     0.831       206\n",
      "\n",
      "    accuracy                          0.817       405\n",
      "   macro avg      0.823     0.816     0.816       405\n",
      "weighted avg      0.822     0.817     0.816       405\n",
      "\n",
      "AUC Score: 0.8368\n"
     ]
    },
    {
     "name": "stderr",
     "output_type": "stream",
     "text": [
      "Training Epoch 7: 100%|██████████| 1015/1015 [06:28<00:00,  2.61it/s]\n"
     ]
    },
    {
     "name": "stdout",
     "output_type": "stream",
     "text": [
      "Epoch 7 Loss: 0.2124\n"
     ]
    },
    {
     "name": "stderr",
     "output_type": "stream",
     "text": [
      "Validating Epoch 7: 100%|██████████| 51/51 [00:04<00:00, 10.24it/s]\n"
     ]
    },
    {
     "name": "stdout",
     "output_type": "stream",
     "text": [
      "              precision    recall  f1-score   support\n",
      "\n",
      "         0.0      0.855     0.769     0.810       199\n",
      "         1.0      0.796     0.874     0.833       206\n",
      "\n",
      "    accuracy                          0.822       405\n",
      "   macro avg      0.826     0.821     0.821       405\n",
      "weighted avg      0.825     0.822     0.822       405\n",
      "\n",
      "AUC Score: 0.8390\n"
     ]
    },
    {
     "name": "stderr",
     "output_type": "stream",
     "text": [
      "Training Epoch 8: 100%|██████████| 1015/1015 [06:28<00:00,  2.61it/s]\n"
     ]
    },
    {
     "name": "stdout",
     "output_type": "stream",
     "text": [
      "Epoch 8 Loss: 0.2106\n"
     ]
    },
    {
     "name": "stderr",
     "output_type": "stream",
     "text": [
      "Validating Epoch 8: 100%|██████████| 51/51 [00:04<00:00, 10.25it/s]\n"
     ]
    },
    {
     "name": "stdout",
     "output_type": "stream",
     "text": [
      "              precision    recall  f1-score   support\n",
      "\n",
      "         0.0      0.865     0.774     0.817       199\n",
      "         1.0      0.802     0.883     0.841       206\n",
      "\n",
      "    accuracy                          0.830       405\n",
      "   macro avg      0.833     0.829     0.829       405\n",
      "weighted avg      0.833     0.830     0.829       405\n",
      "\n",
      "AUC Score: 0.8411\n",
      "Fold 5 Best Val AUC: 0.8551\n"
     ]
    },
    {
     "name": "stderr",
     "output_type": "stream",
     "text": [
      "Fold 5 OOF Prediction: 100%|██████████| 51/51 [00:04<00:00, 10.26it/s]\n"
     ]
    },
    {
     "name": "stdout",
     "output_type": "stream",
     "text": [
      "Fold 5 OOF AUC Check: 0.8411 (This is the true validation AUC for this fold)\n"
     ]
    },
    {
     "name": "stderr",
     "output_type": "stream",
     "text": [
      "Fold 5 Test Prediction: 100%|██████████| 2/2 [00:00<00:00, 14.58it/s]"
     ]
    },
    {
     "name": "stdout",
     "output_type": "stream",
     "text": [
      "\n",
      "--- Overall 5-Fold OOF AUC: 0.8571 ---\n",
      "K-Fold multi-input submission.csv created successfully!\n",
      "   row_id  rule_violation\n",
      "0    2029        0.027804\n",
      "1    2030        0.980489\n",
      "2    2031        0.984540\n",
      "3    2032        0.983370\n",
      "4    2033        0.984117\n",
      "5    2034        0.015482\n",
      "6    2035        0.983249\n",
      "7    2036        0.016281\n",
      "8    2037        0.019867\n",
      "9    2038        0.978963\n"
     ]
    },
    {
     "name": "stderr",
     "output_type": "stream",
     "text": [
      "\n"
     ]
    }
   ],
   "source": [
    "# -----------------------------\n",
    "# Training and Evaluation\n",
    "# -----------------------------\n",
    "device = torch.device(\"cuda\" if torch.cuda.is_available() else \"cpu\")\n",
    "tokenizer = AutoTokenizer.from_pretrained(MODEL_PATH)\n",
    "\n",
    "oof_preds = np.zeros(len(df_trn))\n",
    "test_preds_folds = [] # This is correct\n",
    "\n",
    "for fold, (train_idx_orig, val_idx_orig) in enumerate(skf.split(df_trn, df_trn[\"rule_violation\"])):\n",
    "    print(f\"\\n----- Fold {fold+1} -----\")\n",
    "    # train_df = df_trn.iloc[train_idx].reset_index(drop=True)\n",
    "\n",
    "    # Create original train and validation DataFrames for this fold\n",
    "    # These are the original body, rules, subreddits, and examples\n",
    "    fold_train_df_orig = df_trn.iloc[train_idx_orig].reset_index(drop=True)\n",
    "    fold_val_df_orig = df_trn.iloc[val_idx_orig].reset_index(drop=True)\n",
    "\n",
    "    # Expand the tarining data for this fold\n",
    "    expanded_train_data = []\n",
    "    for idx, row in fold_train_df_orig.iterrows():\n",
    "        rule_text = getText(row['rule'])\n",
    "        subreddit_text = getText(row['subreddit'])\n",
    "        # Add original body as a training sample\n",
    "        expanded_train_data.append({\n",
    "            'text_to_classify': getText(row['body']),\n",
    "            'rule': rule_text,\n",
    "            'subreddit': subreddit_text,\n",
    "            'rule_violation': row['rule_violation']\n",
    "        })\n",
    "        # Add positive examples\n",
    "        expanded_train_data.append({\n",
    "            'text_to_classify': getText(row['positive_example_1']),\n",
    "            'rule': rule_text,\n",
    "            'subreddit': subreddit_text,\n",
    "            'rule_violation': 1.0\n",
    "        })\n",
    "        expanded_train_data.append({\n",
    "            'text_to_classify': getText(row['positive_example_2']),\n",
    "            'rule': rule_text,\n",
    "            'subreddit': subreddit_text,\n",
    "            'rule_violation': 1.0\n",
    "        })\n",
    "        # Add negative examples\n",
    "        expanded_train_data.append({\n",
    "            'text_to_classify': getText(row['negative_example_1']),\n",
    "            'rule': rule_text,\n",
    "            'subreddit': subreddit_text,\n",
    "            'rule_violation': 0.0\n",
    "        })\n",
    "        expanded_train_data.append({\n",
    "            'text_to_classify': getText(row['negative_example_2']),\n",
    "            'rule': rule_text,\n",
    "            'subreddit': subreddit_text,\n",
    "            'rule_violation': 0.0\n",
    "        })\n",
    "\n",
    "    # Create the expanded training DataFrame for this fold\n",
    "    fold_train_df_expanded = pd.DataFrame(expanded_train_data)\n",
    "    fold_train_df_expanded = fold_train_df_expanded[fold_train_df_expanded['text_to_classify'] != ''].reset_index(drop=True)\n",
    "\n",
    "    # 3. Prepare the VALIDATION data for this fold (using original body)\n",
    "    # Map 'body' to 'text_to_classify' for the validation set\n",
    "    fold_val_df_for_model = fold_val_df_orig.copy()\n",
    "    fold_val_df_for_model['text_to_classify'] = fold_val_df_for_model['body']\n",
    "\n",
    "    # 4. Create Datasets and DataLoaders\n",
    "    train_dataset = MultiInputDataset(fold_train_df_expanded, tokenizer) # Train on expanded data\n",
    "    val_dataset = MultiInputDataset(fold_val_df_for_model, tokenizer) # Validate on original body\n",
    "\n",
    "    train_loader = DataLoader(train_dataset, batch_size=8, shuffle=True)\n",
    "    val_loader = DataLoader(val_dataset, batch_size=8) # Use a consistent batch size\n",
    "\n",
    "    test_loader = DataLoader(MultiInputDataset(df_tst, tokenizer, is_test=True), batch_size=8, shuffle=False)\n",
    "\n",
    "\n",
    "    model = MultiInputBERT().to(device)\n",
    "    optimizer = AdamW(model.parameters(), lr=1e-6)\n",
    "    criterion = nn.BCEWithLogitsLoss()\n",
    "\n",
    "    num_training_steps_per_fold = len(train_loader) * N_EPOCHS\n",
    "    num_warmup_steps_per_fold = int(num_training_steps_per_fold * 0.05)\n",
    "\n",
    "    # Initialize the scheduler\n",
    "    scheduler = get_linear_schedule_with_warmup(\n",
    "        optimizer,\n",
    "        num_warmup_steps=num_warmup_steps_per_fold,\n",
    "        num_training_steps=num_training_steps_per_fold\n",
    "    )\n",
    "\n",
    "    # Training Loop for this fold\n",
    "    best_auc = -1.0 # Track best AUC for this fold\n",
    "    best_model_state = None # To save the best model for this fold\n",
    "\n",
    "    for epoch in range(N_EPOCHS):\n",
    "        model.train()\n",
    "        total_loss = 0\n",
    "        for batch in tqdm(train_loader, desc=f\"Training Epoch {epoch+1}\"):\n",
    "            inputs = {k: v.to(device) for k, v in batch.items() if k != \"label\"}\n",
    "            labels = batch[\"label\"].to(device)\n",
    "\n",
    "            optimizer.zero_grad()\n",
    "            outputs = model(inputs)\n",
    "            logits = outputs.squeeze(-1)\n",
    "\n",
    "            loss = criterion(logits, labels)\n",
    "            loss.backward()\n",
    "            torch.nn.utils.clip_grad_norm_(model.parameters(), max_norm=1.0)\n",
    "            optimizer.step()\n",
    "            scheduler.step()\n",
    "            total_loss += loss.item()\n",
    "        print(f\"Epoch {epoch+1} Loss: {total_loss / len(train_loader):.4f}\")\n",
    "\n",
    "        # Eval\n",
    "        model.eval()\n",
    "        preds_raw, labels_all = [], []\n",
    "        with torch.no_grad():\n",
    "            for batch in tqdm(val_loader, desc=f\"Validating Epoch {epoch+1}\"):\n",
    "                inputs = {k: v.to(device) for k, v in batch.items() if k != \"label\"}\n",
    "                labels = batch[\"label\"].to(device)\n",
    "                outputs = model(inputs)\n",
    "                logits = outputs.squeeze(-1) # Squeeze to [batch_size]\n",
    "\n",
    "                probs = torch.sigmoid(logits).detach().cpu().tolist()\n",
    "                preds_raw.extend(probs)\n",
    "                labels_all.extend(labels.cpu().tolist())\n",
    "\n",
    "            # Hard labels (for classification report, optional)\n",
    "            preds = [int(p > 0.5) for p in preds_raw]\n",
    "\n",
    "        # Print metrics\n",
    "        print(classification_report(labels_all, preds, digits=3, zero_division=0))\n",
    "\n",
    "        curr_auc = roc_auc_score(labels_all, preds_raw)\n",
    "        print(f\"AUC Score: {curr_auc:.4f}\")\n",
    "\n",
    "        # Save the best model for this fold based on validation AUC\n",
    "        if curr_auc > best_auc:\n",
    "            best_auc = curr_auc\n",
    "            best_model_state = model.state_dict() # Save model weights\n",
    "            print(f\"  -> New best Val AUC for Fold {fold+1}: {best_auc:.4f}\")\n",
    "\n",
    "    # 6. Load best model state for this fold\n",
    "    model.load_state_dict(best_model_state) # Use best_model_state\n",
    "    print(f\"Fold {fold+1} Best Val AUC: {best_auc:.4f}\")\n",
    "\n",
    "    # Make OOF predictions for this fold's validation set\n",
    "    model.eval()\n",
    "    fold_val_preds_list = []\n",
    "    fold_val_true_list = []\n",
    "    with torch.no_grad():\n",
    "        for batch in tqdm(val_loader, desc=f\"Fold {fold + 1} OOF Prediction\"):\n",
    "            inputs = {k: v.to(device) for k, v in batch.items() if k != \"label\"}\n",
    "            labels = batch[\"label\"].to(device)\n",
    "            outputs = model(inputs)\n",
    "            logits = outputs.squeeze(-1)  # Squeeze to [batch_size]\n",
    "            probs = torch.sigmoid(logits).detach().cpu().tolist()\n",
    "            fold_val_preds_list.extend(probs)\n",
    "            fold_val_true_list.extend(labels.cpu().tolist())\n",
    "\n",
    "    # Sanity check: Calculate AUC for this fold's OOF predictions\n",
    "    oof_fold_auc_check = roc_auc_score(fold_val_true_list, fold_val_preds_list)\n",
    "    print(f\"Fold {fold + 1} OOF AUC Check: {oof_fold_auc_check:.4f} (This is the true validation AUC for this fold)\")\n",
    "\n",
    "    # Assign predictions to the correct indices in the global oof_preds array\n",
    "    oof_preds[val_idx_orig] = np.array(fold_val_preds_list)  # Use val_idx_orig from kf.split\n",
    "    # Make predictions on the TEST set using this fold's best model\n",
    "    test_fold_preds = []\n",
    "    with torch.no_grad():\n",
    "        for batch in tqdm(test_loader, desc=f\"Fold {fold + 1} Test Prediction\"):\n",
    "            inputs = {k: v.to(device) for k, v in batch.items()}\n",
    "            outputs = model(inputs)\n",
    "            logits = outputs.squeeze(-1)  # Squeeze to [batch_size]\n",
    "            probs = torch.sigmoid(logits).detach().cpu().tolist()\n",
    "            test_fold_preds.extend(probs)\n",
    "\n",
    "    test_preds_folds.append(test_fold_preds)  # Store test predictions from this fold\n",
    "\n",
    "# -----------------------------\n",
    "# Final Calculation and Submission\n",
    "# -----------------------------\n",
    "overall_oof_auc = roc_auc_score(df_trn['rule_violation'], oof_preds)\n",
    "print(f\"\\n--- Overall {k_folds}-Fold OOF AUC: {overall_oof_auc:.4f} ---\")\n",
    "\n",
    "# Average test predictions across all folds\n",
    "final_test_predictions = np.mean(test_preds_folds, axis=0)\n",
    "\n",
    "# Create final submission file\n",
    "submission = pd.DataFrame({\n",
    "    \"row_id\": df_tst[\"row_id\"],\n",
    "    \"rule_violation\": final_test_predictions\n",
    "})\n",
    "submission.to_csv(\"submission.csv\", index=False) # Save with a distinct name\n",
    "print(\"K-Fold multi-input submission.csv created successfully!\")\n",
    "print(submission.head(10))"
   ]
  }
 ],
 "metadata": {
  "kaggle": {
   "accelerator": "gpu",
   "dataSources": [
    {
     "databundleVersionId": 13121456,
     "isSourceIdPinned": false,
     "sourceId": 94635,
     "sourceType": "competition"
    },
    {
     "datasetId": 7984956,
     "sourceId": 12636496,
     "sourceType": "datasetVersion"
    }
   ],
   "dockerImageVersionId": 31089,
   "isGpuEnabled": true,
   "isInternetEnabled": false,
   "language": "python",
   "sourceType": "notebook"
  },
  "kernelspec": {
   "display_name": "Python 3",
   "language": "python",
   "name": "python3"
  },
  "language_info": {
   "codemirror_mode": {
    "name": "ipython",
    "version": 3
   },
   "file_extension": ".py",
   "mimetype": "text/x-python",
   "name": "python",
   "nbconvert_exporter": "python",
   "pygments_lexer": "ipython3",
   "version": "3.11.13"
  },
  "papermill": {
   "default_parameters": {},
   "duration": 15818.859754,
   "end_time": "2025-08-06T07:46:47.714661",
   "environment_variables": {},
   "exception": null,
   "input_path": "__notebook__.ipynb",
   "output_path": "__notebook__.ipynb",
   "parameters": {},
   "start_time": "2025-08-06T03:23:08.854907",
   "version": "2.6.0"
  }
 },
 "nbformat": 4,
 "nbformat_minor": 5
}
