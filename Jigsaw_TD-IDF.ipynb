{
 "cells": [
  {
   "cell_type": "code",
   "id": "initial_id",
   "metadata": {
    "collapsed": true,
    "ExecuteTime": {
     "end_time": "2025-08-11T22:37:24.485562Z",
     "start_time": "2025-08-11T22:37:24.452969Z"
    }
   },
   "source": [
    "import pandas as pd\n",
    "from sklearn.metrics import roc_auc_score\n",
    "\n",
    "trn = \"C:/Users/satra/Downloads/jigsaw-agile-community-rules/train.csv\"\n",
    "tst = \"C:/Users/satra/Downloads/jigsaw-agile-community-rules/test.csv\"\n",
    "df_trn = pd.read_csv(trn)\n",
    "df_tst = pd.read_csv(tst)"
   ],
   "outputs": [],
   "execution_count": 6
  },
  {
   "metadata": {
    "ExecuteTime": {
     "end_time": "2025-08-12T00:59:00.002442Z",
     "start_time": "2025-08-12T00:58:59.824948Z"
    }
   },
   "cell_type": "code",
   "source": [
    "trn_rows = []\n",
    "for idx, row in df_trn.iterrows():\n",
    "  trn_rows.append({\n",
    "    'body': row['positive_example_1'],\n",
    "    'rule': row['rule'],\n",
    "    'subreddit': row['subreddit'],\n",
    "    'label': 1\n",
    "  })\n",
    "\n",
    "  trn_rows.append({\n",
    "    'body': row['positive_example_2'],\n",
    "    'rule': row['rule'],\n",
    "    'subreddit': row['subreddit'],\n",
    "    'label': 1\n",
    "  })\n",
    "\n",
    "  trn_rows.append({\n",
    "    'body': row['negative_example_1'],\n",
    "    'rule': row['rule'],\n",
    "    'subreddit': row['subreddit'],\n",
    "    'label': 0\n",
    "  })\n",
    "\n",
    "  trn_rows.append({\n",
    "    'body': row['negative_example_2'],\n",
    "    'rule': row['rule'],\n",
    "    'subreddit': row['subreddit'],\n",
    "    'label': 0\n",
    "  })\n",
    "\n",
    "trn_df = pd.DataFrame(trn_rows)\n",
    "\n",
    "val_rows = []\n",
    "for idx, row in df_trn.iterrows():\n",
    "  val_rows.append({\n",
    "    'body': row['body'],\n",
    "    'rule': row['rule'],\n",
    "    'subreddit': row['subreddit'],\n",
    "    'label': row['rule_violation']\n",
    "  })\n",
    "\n",
    "val_df = pd.DataFrame(val_rows)\n",
    "\n",
    "tst_rows = []\n",
    "for idx, row in df_tst.iterrows():\n",
    "  tst_rows.append({\n",
    "    'body': row['body'],\n",
    "    'rule': row['rule'],\n",
    "    'subreddit': row['subreddit']\n",
    "  })\n",
    "\n",
    "tst_df = pd.DataFrame(tst_rows)\n",
    "print (f'Train shape: {trn_df.shape}, Val shape: {val_df.shape}, Test shape: {tst_df.shape}')"
   ],
   "id": "1bddb764c85731c0",
   "outputs": [
    {
     "name": "stdout",
     "output_type": "stream",
     "text": [
      "Train shape: (8116, 4), Val shape: (2029, 4), Test shape: (10, 3)\n"
     ]
    }
   ],
   "execution_count": 34
  },
  {
   "metadata": {
    "ExecuteTime": {
     "end_time": "2025-08-12T01:02:49.398679Z",
     "start_time": "2025-08-12T01:02:49.017033Z"
    }
   },
   "cell_type": "code",
   "source": [
    "from sklearn.feature_extraction.text import TfidfVectorizer\n",
    "\n",
    "body_vec = TfidfVectorizer(max_features=10000)\n",
    "rule_vec = TfidfVectorizer()\n",
    "sred_vec = TfidfVectorizer()\n",
    "\n",
    "X_body_trn = body_vec.fit_transform(trn_df['body'])\n",
    "X_rule_trn = rule_vec.fit_transform(trn_df['rule'])\n",
    "X_sred_trn = sred_vec.fit_transform(trn_df['subreddit'])\n",
    "\n",
    "X_body_val = body_vec.transform(val_df['body'])\n",
    "X_rule_val = rule_vec.transform(val_df['rule'])\n",
    "X_sred_val = sred_vec.transform(val_df['subreddit'])\n",
    "\n",
    "X_body_tst = body_vec.transform(tst_df['body'])\n",
    "X_rule_tst = rule_vec.transform(tst_df['rule'])\n",
    "X_sred_tst = sred_vec.transform(tst_df['subreddit'])\n",
    "\n",
    "Y_trn = trn_df['label']\n",
    "Y_val = val_df['label']"
   ],
   "id": "b1d1fc3836b561b2",
   "outputs": [],
   "execution_count": 36
  },
  {
   "metadata": {
    "ExecuteTime": {
     "end_time": "2025-08-12T01:03:00.619706Z",
     "start_time": "2025-08-12T01:03:00.605301Z"
    }
   },
   "cell_type": "code",
   "source": [
    "from scipy.sparse import hstack, csr_matrix\n",
    "\n",
    "X_trn = hstack([X_body_trn, X_rule_trn, X_sred_trn]).tocsr()\n",
    "X_val = hstack([X_body_val, X_rule_val, X_sred_val]).tocsr()\n",
    "X_tst = hstack([X_body_tst, X_rule_tst, X_sred_tst]).tocsr()\n",
    "\n",
    "print(f'X_trn shape: {X_trn.shape}, X_val shape: {X_val.shape}, X_tst shape: {X_tst.shape}')"
   ],
   "id": "ebb365eaab1c0d76",
   "outputs": [
    {
     "name": "stdout",
     "output_type": "stream",
     "text": [
      "X_trn shape: (8116, 5746), X_val shape: (2029, 5746), X_tst shape: (10, 5746)\n"
     ]
    }
   ],
   "execution_count": 37
  },
  {
   "metadata": {
    "ExecuteTime": {
     "end_time": "2025-08-12T01:08:13.830929Z",
     "start_time": "2025-08-12T01:07:57.536584Z"
    }
   },
   "cell_type": "code",
   "source": [
    "import numpy as np\n",
    "import lightgbm as lgb\n",
    "\n",
    "trn_data = lgb.Dataset(X_trn, label=Y_trn)\n",
    "val_data = lgb.Dataset(X_val, label=Y_val)\n",
    "\n",
    "params = {'objective': 'binary', 'metric': 'auc', 'random_state': 42,'n_estimators': 4096, 'learning_rate': .008}\n",
    "model = lgb.train(params, trn_data, num_boost_round=4096, valid_sets=[val_data], callbacks=[lgb.early_stopping(stopping_rounds=32)])\n",
    "\n",
    "prob = np.round(model.predict(X_val), 6)\n",
    "auc = roc_auc_score(Y_val, prob)\n",
    "print(f'Probabilities: {len(prob)} {prob} AUC: {auc}')\n",
    "\n",
    "prob = np.round(model.predict(X_tst), 6)\n",
    "print(f'Predictions: {len(prob)} {prob}')\n",
    "\n",
    "sub_df = pd.DataFrame({\n",
    "    \"row_id\": df_tst[\"row_id\"],\n",
    "    \"rule_violation\": prob\n",
    "})\n",
    "\n",
    "sub_df.to_csv(\"submission.csv\", index=False) # Save with a distinct name\n",
    "print(\"submission.csv created successfully!\")\n",
    "print(sub_df.head(10))\n"
   ],
   "id": "e71da487eb74b3ce",
   "outputs": [
    {
     "name": "stdout",
     "output_type": "stream",
     "text": [
      "[LightGBM] [Info] Number of positive: 4058, number of negative: 4058\n",
      "[LightGBM] [Info] Auto-choosing row-wise multi-threading, the overhead of testing was 0.017888 seconds.\n",
      "You can set `force_row_wise=true` to remove the overhead.\n",
      "And if memory is not enough, you can set `force_col_wise=true`.\n",
      "[LightGBM] [Info] Total Bins 18150\n",
      "[LightGBM] [Info] Number of data points in the train set: 8116, number of used features: 1537\n",
      "[LightGBM] [Info] [binary:BoostFromScore]: pavg=0.500000 -> initscore=0.000000\n",
      "Training until validation scores don't improve for 32 rounds\n",
      "Early stopping, best iteration is:\n",
      "[1717]\tvalid_0's auc: 0.911998\n",
      "Probabilities: 2029 [1.13680e-02 8.31000e-04 8.58400e-03 ... 2.84000e-04 1.65257e-01\n",
      " 9.97586e-01] AUC: 0.9119976130728966\n",
      "Predictions: 10 [1.67330e-02 9.96500e-02 9.91338e-01 9.13102e-01 9.98173e-01 3.44510e-02\n",
      " 9.57572e-01 3.09620e-02 2.20000e-04 9.84765e-01]\n",
      "submission.csv created successfully!\n",
      "   row_id  rule_violation\n",
      "0    2029        0.016733\n",
      "1    2030        0.099650\n",
      "2    2031        0.991338\n",
      "3    2032        0.913102\n",
      "4    2033        0.998173\n",
      "5    2034        0.034451\n",
      "6    2035        0.957572\n",
      "7    2036        0.030962\n",
      "8    2037        0.000220\n",
      "9    2038        0.984765\n"
     ]
    }
   ],
   "execution_count": 39
  }
 ],
 "metadata": {
  "kernelspec": {
   "display_name": "Python 3",
   "language": "python",
   "name": "python3"
  },
  "language_info": {
   "codemirror_mode": {
    "name": "ipython",
    "version": 2
   },
   "file_extension": ".py",
   "mimetype": "text/x-python",
   "name": "python",
   "nbconvert_exporter": "python",
   "pygments_lexer": "ipython2",
   "version": "2.7.6"
  }
 },
 "nbformat": 4,
 "nbformat_minor": 5
}
